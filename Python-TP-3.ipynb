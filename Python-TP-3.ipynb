{
 "cells": [
  {
   "cell_type": "markdown",
   "id": "d68c1dee",
   "metadata": {
    "id": "d68c1dee"
   },
   "source": [
    "# Practical_3: Iterable objects or Containers"
   ]
  },
  {
   "cell_type": "markdown",
   "id": "1962032a",
   "metadata": {
    "id": "bea983a3"
   },
   "source": [
    "---\n",
    "\n",
    "### Exercise 1:\n",
    "Create a list of integers from 1 to 10.\n",
    "\n",
    "```python"
   ]
  },
  {
   "cell_type": "code",
   "execution_count": 2,
   "id": "1ff2e46d",
   "metadata": {
    "id": "bea983a3"
   },
   "outputs": [
    {
     "data": {
      "text/plain": [
       "[1, 2, 3, 4, 5, 6, 7, 8, 9, 10]"
      ]
     },
     "execution_count": 2,
     "metadata": {},
     "output_type": "execute_result"
    }
   ],
   "source": [
    "# Exercise 1\n",
    "list = [x for x in range(1,11)]\n",
    "list\n"
   ]
  },
  {
   "cell_type": "markdown",
   "id": "c59fed96",
   "metadata": {
    "id": "bea983a3"
   },
   "source": [
    "### Exercise 2:\n",
    "Create a tuple containing the elements `\"apple\"`, `\"banana\"`, and `\"cherry\"`.\n",
    "\n",
    "```python"
   ]
  },
  {
   "cell_type": "code",
   "execution_count": 5,
   "id": "f107ad1f",
   "metadata": {
    "id": "bea983a3"
   },
   "outputs": [
    {
     "data": {
      "text/plain": [
       "('apple', 'banana', 'cherry')"
      ]
     },
     "execution_count": 5,
     "metadata": {},
     "output_type": "execute_result"
    }
   ],
   "source": [
    "# Exercise 2\n",
    "elements = (\"apple\", \"banana\", \"cherry\")\n",
    "elements"
   ]
  },
  {
   "cell_type": "markdown",
   "id": "ae4ced5f",
   "metadata": {
    "id": "bea983a3"
   },
   "source": [
    "### Exercise 3:\n",
    "Convert the list `numbers = [10, 20, 30, 40]` into a tuple.\n",
    "\n",
    "```python"
   ]
  },
  {
   "cell_type": "code",
   "execution_count": 6,
   "id": "674e9e91",
   "metadata": {
    "id": "bea983a3"
   },
   "outputs": [
    {
     "data": {
      "text/plain": [
       "(10, 20, 30, 40)"
      ]
     },
     "execution_count": 6,
     "metadata": {},
     "output_type": "execute_result"
    }
   ],
   "source": [
    "# Exercise 3\n",
    "numbers = tuple([10, 20, 30, 40])\n",
    "numbers"
   ]
  },
  {
   "cell_type": "markdown",
   "id": "f9832557",
   "metadata": {
    "id": "bea983a3"
   },
   "source": [
    "### Exercise 4:\n",
    "Create a set containing the elements `1, 2, 3, 4, 5`.\n",
    "\n",
    "```python"
   ]
  },
  {
   "cell_type": "code",
   "execution_count": 7,
   "id": "84376ff4",
   "metadata": {
    "id": "bea983a3"
   },
   "outputs": [
    {
     "data": {
      "text/plain": [
       "(1, 2, 3, 4, 5)"
      ]
     },
     "execution_count": 7,
     "metadata": {},
     "output_type": "execute_result"
    }
   ],
   "source": [
    "# Exercise 4\n",
    "content = (1, 2, 3, 4, 5)\n",
    "content"
   ]
  },
  {
   "cell_type": "markdown",
   "id": "6e1e1cf4",
   "metadata": {
    "id": "bea983a3"
   },
   "source": [
    "### Exercise 5:\n",
    "Create a dictionary `student` with the keys `\"name\"`, `\"age\"`, and `\"grade\"` and corresponding values `\"Alice\"`, `20`, and `\"A\"`.\n",
    "\n",
    "```python"
   ]
  },
  {
   "cell_type": "code",
   "execution_count": 8,
   "id": "012c20bd",
   "metadata": {
    "id": "bea983a3"
   },
   "outputs": [
    {
     "data": {
      "text/plain": [
       "{'name': 'Alice', 'age': 20, 'grade': 'A'}"
      ]
     },
     "execution_count": 8,
     "metadata": {},
     "output_type": "execute_result"
    }
   ],
   "source": [
    "# Exercise 5\n",
    "student = {\"name\" : \"Alice\", \"age\" : 20, \"grade\" : \"A\"}\n",
    "student"
   ]
  },
  {
   "cell_type": "markdown",
   "id": "7faa44cc",
   "metadata": {
    "id": "bea983a3"
   },
   "source": [
    "### Exercise 6:\n",
    "Access the second element of the list `[10, 20, 30, 40, 50]` using indexing.\n",
    "\n",
    "```python"
   ]
  },
  {
   "cell_type": "code",
   "execution_count": 9,
   "id": "56537fa2",
   "metadata": {
    "id": "bea983a3"
   },
   "outputs": [
    {
     "data": {
      "text/plain": [
       "20"
      ]
     },
     "execution_count": 9,
     "metadata": {},
     "output_type": "execute_result"
    }
   ],
   "source": [
    "# Exercise 6\n",
    "list = [10, 20, 30, 40, 50]\n",
    "list[1]"
   ]
  },
  {
   "cell_type": "markdown",
   "id": "3c8c9b18",
   "metadata": {
    "id": "bea983a3"
   },
   "source": [
    "### Exercise 7:\n",
    "Change the third element of the list `fruits = [\"apple\", \"banana\", \"cherry\", \"orange\"]` to `\"mango\"`.\n",
    "\n",
    "```python"
   ]
  },
  {
   "cell_type": "code",
   "execution_count": 1,
   "id": "278e33bd",
   "metadata": {
    "id": "bea983a3"
   },
   "outputs": [
    {
     "data": {
      "text/plain": [
       "['apple', 'banana', 'mango', 'orange']"
      ]
     },
     "execution_count": 1,
     "metadata": {},
     "output_type": "execute_result"
    }
   ],
   "source": [
    "# Exercise 7\n",
    "\n",
    "fruits = [\"apple\", \"banana\", \"cherry\", \"orange\"]\n",
    "fruits[2] = \"mango\"\n",
    "fruits"
   ]
  },
  {
   "cell_type": "markdown",
   "id": "76a28e67",
   "metadata": {
    "id": "bea983a3"
   },
   "source": [
    "### Exercise 8:\n",
    "Add the number `6` to the set `numbers = {1, 2, 3, 4, 5}`.\n",
    "\n",
    "```python"
   ]
  },
  {
   "cell_type": "code",
   "execution_count": 10,
   "id": "eef8e39c",
   "metadata": {
    "id": "bea983a3"
   },
   "outputs": [
    {
     "data": {
      "text/plain": [
       "{1, 2, 3, 4, 5, 6}"
      ]
     },
     "execution_count": 10,
     "metadata": {},
     "output_type": "execute_result"
    }
   ],
   "source": [
    "# Exercise 8\n",
    "numbers = {1, 2, 3, 4, 5}\n",
    "numbers.add(6)\n",
    "numbers"
   ]
  },
  {
   "cell_type": "markdown",
   "id": "21582c0d",
   "metadata": {
    "id": "bea983a3"
   },
   "source": [
    "### Exercise 9:\n",
    "Remove the key `\"age\"` from the dictionary `person = {\"name\": \"John\", \"age\": 25, \"city\": \"New York\"}`.\n",
    "\n",
    "```python"
   ]
  },
  {
   "cell_type": "code",
   "execution_count": 5,
   "id": "69654ac9",
   "metadata": {
    "id": "bea983a3"
   },
   "outputs": [
    {
     "data": {
      "text/plain": [
       "{'name': 'John', 'city': 'New York'}"
      ]
     },
     "execution_count": 5,
     "metadata": {},
     "output_type": "execute_result"
    }
   ],
   "source": [
    "# Exercise 9\n",
    "person = {\"name\": \"John\", \"age\": 25, \"city\": \"New York\"}\n",
    "person.pop(\"age\")\n",
    "person\n"
   ]
  },
  {
   "cell_type": "markdown",
   "id": "6a73d137",
   "metadata": {
    "id": "bea983a3"
   },
   "source": [
    "### Exercise 10:\n",
    "Create a range object starting from 0 to 9.\n",
    "\n",
    "```python"
   ]
  },
  {
   "cell_type": "code",
   "execution_count": 26,
   "id": "794ef265",
   "metadata": {
    "id": "bea983a3"
   },
   "outputs": [
    {
     "name": "stdout",
     "output_type": "stream",
     "text": [
      "0\n",
      "1\n",
      "2\n",
      "3\n",
      "4\n",
      "5\n",
      "6\n",
      "7\n",
      "8\n",
      "9\n"
     ]
    }
   ],
   "source": [
    "# Exercise 10\n",
    "for i in range(10):\n",
    "    a = print(i)\n",
    "a\n",
    "    "
   ]
  },
  {
   "cell_type": "markdown",
   "id": "f61c0ae9",
   "metadata": {
    "id": "bea983a3"
   },
   "source": [
    "### Exercise 11:\n",
    "Use a list comprehension to create a list of squares of numbers from 1 to 10.\n",
    "\n",
    "```python"
   ]
  },
  {
   "cell_type": "code",
   "execution_count": 30,
   "id": "bed6a9a5",
   "metadata": {
    "id": "bea983a3"
   },
   "outputs": [
    {
     "name": "stdout",
     "output_type": "stream",
     "text": [
      "[1, 4, 9, 16, 25, 36, 49, 64, 81]\n"
     ]
    }
   ],
   "source": [
    "# Exercise 11\n",
    "squares = [x**2 for x in range(1, 10)]\n",
    "print(squares) "
   ]
  },
  {
   "cell_type": "markdown",
   "id": "51504df4",
   "metadata": {
    "id": "bea983a3"
   },
   "source": [
    "### Exercise 12:\n",
    "Create a tuple of even numbers between 2 and 10 using a tuple comprehension.\n",
    "\n",
    "```python"
   ]
  },
  {
   "cell_type": "code",
   "execution_count": 33,
   "id": "eb52a340",
   "metadata": {
    "id": "bea983a3"
   },
   "outputs": [
    {
     "name": "stdout",
     "output_type": "stream",
     "text": [
      "(2, 4, 6, 8, 10)\n"
     ]
    }
   ],
   "source": [
    "# Exercise 12\n",
    "even = [x for x in range(1, 11) if x % 2 == 0]\n",
    "print(tuple(even))"
   ]
  },
  {
   "cell_type": "markdown",
   "id": "6e72f0d6",
   "metadata": {
    "id": "bea983a3"
   },
   "source": [
    "### Exercise 13:\n",
    "Use a for loop to iterate through the list `fruits = [\"apple\", \"banana\", \"cherry\"]` and print each element.\n",
    "\n",
    "```python"
   ]
  },
  {
   "cell_type": "code",
   "execution_count": 34,
   "id": "8248d284",
   "metadata": {
    "id": "bea983a3"
   },
   "outputs": [
    {
     "name": "stdout",
     "output_type": "stream",
     "text": [
      "apple\n",
      "banana\n",
      "cherry\n"
     ]
    }
   ],
   "source": [
    "# Exercise 13\n",
    "fruits = [\"apple\", \"banana\", \"cherry\"]\n",
    "for i in fruits:\n",
    "    print(i)"
   ]
  },
  {
   "cell_type": "markdown",
   "id": "3835a438",
   "metadata": {
    "id": "bea983a3"
   },
   "source": [
    "### Exercise 14:\n",
    "Check if the value `3` exists in the set `numbers = {1, 2, 3, 4, 5}`.\n",
    "\n",
    "```python"
   ]
  },
  {
   "cell_type": "code",
   "execution_count": 43,
   "id": "afa5ccef",
   "metadata": {
    "id": "bea983a3"
   },
   "outputs": [
    {
     "name": "stdout",
     "output_type": "stream",
     "text": [
      "Le nombre 3 existe dans la liste\n"
     ]
    }
   ],
   "source": [
    "# Exercise 14\n",
    "numbers = [1, 2, 3, 4, 5]\n",
    "for i in range(len(numbers)):\n",
    "    if( numbers[i]== 3):\n",
    "        print(\"Le nombre 3 existe dans la liste\")\n"
   ]
  },
  {
   "cell_type": "markdown",
   "id": "d0557ab7",
   "metadata": {
    "id": "bea983a3"
   },
   "source": [
    "### Exercise 15:\n",
    "Use the `len()` function to find the length of the tuple `numbers = (10, 20, 30)`.\n",
    "\n",
    "```python"
   ]
  },
  {
   "cell_type": "code",
   "execution_count": 39,
   "id": "3fedbc4a",
   "metadata": {
    "id": "bea983a3"
   },
   "outputs": [
    {
     "data": {
      "text/plain": [
       "3"
      ]
     },
     "execution_count": 39,
     "metadata": {},
     "output_type": "execute_result"
    }
   ],
   "source": [
    "# Exercise 15\n",
    "numbers = (10, 20, 30)\n",
    "len(numbers)"
   ]
  },
  {
   "cell_type": "markdown",
   "id": "b7aca511",
   "metadata": {
    "id": "bea983a3"
   },
   "source": [
    "### Exercise 16:\n",
    "Add the value `100` at the end of the list `scores = [80, 85, 90, 95]`.\n",
    "\n",
    "```python"
   ]
  },
  {
   "cell_type": "code",
   "execution_count": 45,
   "id": "e7a20615",
   "metadata": {
    "id": "bea983a3"
   },
   "outputs": [
    {
     "data": {
      "text/plain": [
       "[80, 85, 90, 95, 100]"
      ]
     },
     "execution_count": 45,
     "metadata": {},
     "output_type": "execute_result"
    }
   ],
   "source": [
    "# Exercise 16\n",
    "\n",
    "scores = [80, 85, 90, 95]\n",
    "scores.append(100)\n",
    "scores"
   ]
  },
  {
   "cell_type": "markdown",
   "id": "03bf1ab9",
   "metadata": {
    "id": "bea983a3"
   },
   "source": [
    "### Exercise 17:\n",
    "Write a function that takes a list as input and returns the sum of all elements in the list.\n",
    "\n",
    "```python"
   ]
  },
  {
   "cell_type": "code",
   "execution_count": 66,
   "id": "c97ae33b",
   "metadata": {
    "id": "bea983a3"
   },
   "outputs": [],
   "source": [
    "# Exercise 17\n",
    "\n",
    "def sumlist(liste):\n",
    "    som = 0\n",
    "    for i in range (len(liste)):\n",
    "        som +=liste[i]\n",
    "\n",
    "    return som\n",
    "    "
   ]
  },
  {
   "cell_type": "code",
   "execution_count": 67,
   "id": "4d74fe33",
   "metadata": {},
   "outputs": [
    {
     "name": "stdout",
     "output_type": "stream",
     "text": [
      "350\n"
     ]
    }
   ],
   "source": [
    "a = [80, 85, 90, 95]\n",
    "b = sumlist(a)\n",
    "print(b)"
   ]
  },
  {
   "cell_type": "markdown",
   "id": "4fd803e4",
   "metadata": {
    "id": "bea983a3"
   },
   "source": [
    "### Exercise 18:\n",
    "Create a set containing the unique elements of the list `numbers = [1, 2, 2, 3, 4, 4, 5]`.\n",
    "\n",
    "```python"
   ]
  },
  {
   "cell_type": "code",
   "execution_count": 39,
   "id": "e87f54eb",
   "metadata": {
    "id": "bea983a3"
   },
   "outputs": [
    {
     "name": "stdout",
     "output_type": "stream",
     "text": [
      "{1, 2, 3, 4, 5}\n"
     ]
    }
   ],
   "source": [
    "# Exercise 18\n",
    "numbers = [1, 2, 2, 3, 4, 4, 5]\n",
    "print(set(numbers)) # convertir une liste en un ensemble en supprimant les doublons       "
   ]
  },
  {
   "cell_type": "markdown",
   "id": "bf665a3b",
   "metadata": {
    "id": "bea983a3"
   },
   "source": [
    "### Exercise 19:\n",
    "Convert the string `\"hello\"` into a list of characters.\n",
    "\n",
    "```python"
   ]
  },
  {
   "cell_type": "code",
   "execution_count": 41,
   "id": "4eeaf9ab",
   "metadata": {
    "id": "bea983a3"
   },
   "outputs": [
    {
     "name": "stdout",
     "output_type": "stream",
     "text": [
      "['h', 'e', 'l', 'l', 'o']\n"
     ]
    }
   ],
   "source": [
    "# Exercise 19\n",
    "a = \"hello\"\n",
    "print(list(a))"
   ]
  },
  {
   "cell_type": "markdown",
   "id": "aaa30f7a",
   "metadata": {
    "id": "bea983a3"
   },
   "source": [
    "### Exercise 20:\n",
    "Write a Python function that reverses a tuple `(1, 2, 3, 4)`.\n",
    "\n",
    "```python"
   ]
  },
  {
   "cell_type": "code",
   "execution_count": 47,
   "id": "0250301f",
   "metadata": {
    "id": "bea983a3"
   },
   "outputs": [],
   "source": [
    "# Exercise 20\n",
    "def reversefunction(a):\n",
    "    return tuple(a[::-1])\n"
   ]
  },
  {
   "cell_type": "code",
   "execution_count": 48,
   "id": "78b002a8",
   "metadata": {},
   "outputs": [
    {
     "data": {
      "text/plain": [
       "(4, 3, 2, 1)"
      ]
     },
     "execution_count": 48,
     "metadata": {},
     "output_type": "execute_result"
    }
   ],
   "source": [
    "reversefunction((1, 2, 3, 4))"
   ]
  },
  {
   "cell_type": "markdown",
   "id": "15e5091c",
   "metadata": {
    "id": "bea983a3"
   },
   "source": [
    "### Exercise 21:\n",
    "Merge two dictionaries `dict1 = {\"a\": 1, \"b\": 2}` and `dict2 = {\"c\": 3, \"d\": 4}` into a single dictionary.\n",
    "\n",
    "```python"
   ]
  },
  {
   "cell_type": "code",
   "execution_count": 69,
   "id": "9ffad90a",
   "metadata": {
    "id": "bea983a3"
   },
   "outputs": [
    {
     "data": {
      "text/plain": [
       "{'a': 1, 'b': 2, 'c': 3, 'd': 4}"
      ]
     },
     "execution_count": 69,
     "metadata": {},
     "output_type": "execute_result"
    }
   ],
   "source": [
    "# Exercise 21\n",
    "dict1 = {\"a\": 1, \"b\": 2}\n",
    "dict2 = {\"c\": 3, \"d\": 4}\n",
    "dict1.update(dict2)\n",
    "dict1"
   ]
  },
  {
   "cell_type": "markdown",
   "id": "8abef356",
   "metadata": {
    "id": "bea983a3"
   },
   "source": [
    "### Exercise 22:\n",
    "Create a dictionary where keys are numbers from 1 to 5, and values are their squares.\n",
    "\n",
    "```python"
   ]
  },
  {
   "cell_type": "code",
   "execution_count": 17,
   "id": "b08605f4",
   "metadata": {
    "id": "bea983a3"
   },
   "outputs": [
    {
     "data": {
      "text/plain": [
       "{1: 1, 2: 4, 3: 9, 4: 16, 5: 25}"
      ]
     },
     "execution_count": 17,
     "metadata": {},
     "output_type": "execute_result"
    }
   ],
   "source": [
    "# Exercise 22\n",
    "squares = {x: x**2 for x in range(1, 6)}\n",
    "squares"
   ]
  },
  {
   "cell_type": "markdown",
   "id": "05f97f67",
   "metadata": {
    "id": "bea983a3"
   },
   "source": [
    "### Exercise 23:\n",
    "Write a Python program to iterate through a dictionary and print each key-value pair.\n",
    "\n",
    "```python"
   ]
  },
  {
   "cell_type": "code",
   "execution_count": 27,
   "id": "53cb5e99",
   "metadata": {
    "id": "bea983a3"
   },
   "outputs": [
    {
     "name": "stdout",
     "output_type": "stream",
     "text": [
      "(nom , khadija)\n",
      "(prenom , bop)\n",
      "(address , mariste)\n"
     ]
    }
   ],
   "source": [
    "# Exercise 23\n",
    "my_dict = {\"nom\": \"khadija\", \"prenom\" : \"bop\", \"address\": \"mariste\"}\n",
    "for key, value in my_dict.items():\n",
    "    print(f\"({key} , {value})\")"
   ]
  },
  {
   "cell_type": "markdown",
   "id": "f8626450",
   "metadata": {
    "id": "bea983a3"
   },
   "source": [
    "### Exercise 24:\n",
    "Create a list of the first 5 letters of the alphabet using the `chr()` function.\n",
    "\n",
    "```python"
   ]
  },
  {
   "cell_type": "code",
   "execution_count": 1,
   "id": "99386d44",
   "metadata": {
    "id": "bea983a3"
   },
   "outputs": [
    {
     "name": "stdout",
     "output_type": "stream",
     "text": [
      "A\n",
      "B\n",
      "C\n",
      "D\n",
      "E\n"
     ]
    }
   ],
   "source": [
    "# Exercise 24\n",
    "\n",
    "for i in range(65, 70):   # Les codes ASCII de A à Z vont de 65 à 90\n",
    "    print(chr(i))"
   ]
  },
  {
   "cell_type": "markdown",
   "id": "310a728b",
   "metadata": {
    "id": "bea983a3"
   },
   "source": [
    "### Exercise 25:\n",
    "Use the `zip()` function to combine two lists `[1, 2, 3]` and `[\"a\", \"b\", \"c\"]` into a list of tuples.\n",
    "\n",
    "```python"
   ]
  },
  {
   "cell_type": "code",
   "execution_count": 31,
   "id": "f12d0487",
   "metadata": {
    "id": "bea983a3"
   },
   "outputs": [
    {
     "data": {
      "text/plain": [
       "[(1, 'a'), (2, 'b'), (3, 'c')]"
      ]
     },
     "execution_count": 31,
     "metadata": {},
     "output_type": "execute_result"
    }
   ],
   "source": [
    "# Exercise 25\n",
    "a = [1, 2, 3]\n",
    "b = [\"a\", \"b\", \"c\"]\n",
    "\n",
    "list(zip(a, b))"
   ]
  },
  {
   "cell_type": "markdown",
   "id": "cae26148",
   "metadata": {
    "id": "bea983a3"
   },
   "source": [
    "### Exercise 26:\n",
    "Find the index of the value `50` in the list `[10, 20, 30, 40, 50]`.\n",
    "\n",
    "```python"
   ]
  },
  {
   "cell_type": "code",
   "execution_count": 32,
   "id": "efd0fa8e",
   "metadata": {
    "id": "bea983a3"
   },
   "outputs": [
    {
     "data": {
      "text/plain": [
       "4"
      ]
     },
     "execution_count": 32,
     "metadata": {},
     "output_type": "execute_result"
    }
   ],
   "source": [
    "# Exercise 26\n",
    "a = [10, 20, 30, 40, 50]\n",
    "a.index(50)"
   ]
  },
  {
   "cell_type": "markdown",
   "id": "eba4148e",
   "metadata": {
    "id": "bea983a3"
   },
   "source": [
    "### Exercise 27:\n",
    "Sort the list `names = [\"Alice\", \"Bob\", \"Charlie\", \"David\"]` in alphabetical order.\n",
    "\n",
    "```python"
   ]
  },
  {
   "cell_type": "code",
   "execution_count": 19,
   "id": "5e7b6188",
   "metadata": {
    "id": "bea983a3"
   },
   "outputs": [
    {
     "name": "stdout",
     "output_type": "stream",
     "text": [
      "['Alice', 'Bob', 'Charlie', 'David']\n"
     ]
    }
   ],
   "source": [
    "# Exercise 27\n",
    "names = [\"Alice\", \"Bob\", \"Charlie\", \"David\"]\n",
    "a = sorted(names)\n",
    "print(a)"
   ]
  },
  {
   "cell_type": "markdown",
   "id": "6864310b",
   "metadata": {
    "id": "bea983a3"
   },
   "source": [
    "### Exercise 28:\n",
    "Write a Python function that takes a list of integers as input and returns the largest number.\n",
    "\n",
    "```python"
   ]
  },
  {
   "cell_type": "code",
   "execution_count": 8,
   "id": "28846987",
   "metadata": {
    "id": "bea983a3"
   },
   "outputs": [
    {
     "data": {
      "text/plain": [
       "9"
      ]
     },
     "execution_count": 8,
     "metadata": {},
     "output_type": "execute_result"
    }
   ],
   "source": [
    "# Exercise 28\n",
    "def numberlist(liste):\n",
    "    return sorted(liste)[-1]\n",
    "\n",
    "numberlist([1, 5, 8, 3, 9])\n"
   ]
  },
  {
   "cell_type": "code",
   "execution_count": null,
   "id": "9b0a5f85",
   "metadata": {
    "id": "bea983a3"
   },
   "outputs": [],
   "source": [
    "### Exercise 29:\n",
    "Use the `count()` method to count how many times `\"apple\"` appears in the list `fruits = [\"apple\", \"banana\", \"apple\", \"orange\"]`.\n",
    "\n",
    "```python"
   ]
  },
  {
   "cell_type": "code",
   "execution_count": 81,
   "id": "c4ccc4b0",
   "metadata": {
    "id": "bea983a3"
   },
   "outputs": [
    {
     "data": {
      "text/plain": [
       "2"
      ]
     },
     "execution_count": 81,
     "metadata": {},
     "output_type": "execute_result"
    }
   ],
   "source": [
    "# Exercise 29\n",
    "fruits = [\"apple\", \"banana\", \"apple\", \"orange\"]\n",
    "fruits.count(\"apple\")"
   ]
  },
  {
   "cell_type": "markdown",
   "id": "978e020e",
   "metadata": {
    "id": "bea983a3"
   },
   "source": [
    "### Exercise 30:\n",
    "Create a dictionary `person` where keys are `\"name\"`, `\"age\"`, and `\"city\"`, and values are `\"Alice\"`, `25`, and `\"New York\"` respectively. Then access the value of the `\"city\"` key.\n",
    "\n",
    "```python"
   ]
  },
  {
   "cell_type": "code",
   "execution_count": 83,
   "id": "3b22b7a7",
   "metadata": {
    "id": "bea983a3"
   },
   "outputs": [
    {
     "data": {
      "text/plain": [
       "'New York'"
      ]
     },
     "execution_count": 83,
     "metadata": {},
     "output_type": "execute_result"
    }
   ],
   "source": [
    "# Exercise 30\n",
    "person = {\"name\" : \"Alice\", \"age\" : 25, \"city\" : \"New York\"}\n",
    "person[\"city\"]"
   ]
  },
  {
   "cell_type": "markdown",
   "id": "47d5c177",
   "metadata": {
    "id": "bea983a3"
   },
   "source": [
    "### Exercise 31:\n",
    "Write a Python function that takes a list as input and returns a new list with all duplicates removed.\n",
    "\n",
    "```python"
   ]
  },
  {
   "cell_type": "code",
   "execution_count": 86,
   "id": "5aa13c98",
   "metadata": {
    "id": "bea983a3"
   },
   "outputs": [],
   "source": [
    "# Exercise 31\n",
    "def removeduplicated(liste):\n",
    "    a = set(liste)\n",
    "    return list(a)"
   ]
  },
  {
   "cell_type": "code",
   "execution_count": 87,
   "id": "1f187928",
   "metadata": {},
   "outputs": [
    {
     "data": {
      "text/plain": [
       "[0, 1, 2, 3, 9]"
      ]
     },
     "execution_count": 87,
     "metadata": {},
     "output_type": "execute_result"
    }
   ],
   "source": [
    "removeduplicated([1,1,1,1,2,2,2,9,9,3,3,2,2,0,0,0,0])"
   ]
  },
  {
   "cell_type": "markdown",
   "id": "db6a7008",
   "metadata": {
    "id": "bea983a3"
   },
   "source": [
    "### Exercise 32:\n",
    "Write a Python function that takes two lists and returns their intersection.\n",
    "\n",
    "```python"
   ]
  },
  {
   "cell_type": "code",
   "execution_count": null,
   "id": "28986cbc",
   "metadata": {
    "id": "bea983a3"
   },
   "outputs": [],
   "source": [
    "# Exercise 32\n",
    "def intersection(list1,list2):\n",
    "    \n",
    "    "
   ]
  },
  {
   "cell_type": "markdown",
   "id": "5a1ba568",
   "metadata": {
    "id": "bea983a3"
   },
   "source": [
    "### Exercise 33:\n",
    "Create a generator that yields the squares of numbers from 1 to 10.\n",
    "\n",
    "```python"
   ]
  },
  {
   "cell_type": "code",
   "execution_count": 3,
   "id": "a246672e",
   "metadata": {
    "id": "bea983a3"
   },
   "outputs": [
    {
     "data": {
      "text/plain": [
       "[1, 4, 9, 16, 25, 36, 49, 64, 81]"
      ]
     },
     "execution_count": 3,
     "metadata": {},
     "output_type": "execute_result"
    }
   ],
   "source": [
    "# Exercise 33\n",
    "squares = [x**2 for x in range(1,10)]\n",
    "squares"
   ]
  },
  {
   "cell_type": "markdown",
   "id": "c41c1835",
   "metadata": {
    "id": "bea983a3"
   },
   "source": [
    "### Exercise 34:\n",
    "Write a Python function that takes a dictionary as input and returns the sum of all its values.\n",
    "\n",
    "```python"
   ]
  },
  {
   "cell_type": "code",
   "execution_count": 86,
   "id": "36e026b3",
   "metadata": {
    "id": "bea983a3"
   },
   "outputs": [],
   "source": [
    "# Exercise 34\n",
    "def sumvalues(dictionnary):\n",
    "    som = 0\n",
    "    for key, value in dictionnary.items():\n",
    "        som = som + dictionnary[key]\n",
    "    return som   "
   ]
  },
  {
   "cell_type": "code",
   "execution_count": 87,
   "id": "51d30330",
   "metadata": {},
   "outputs": [
    {
     "data": {
      "text/plain": [
       "55"
      ]
     },
     "execution_count": 87,
     "metadata": {},
     "output_type": "execute_result"
    }
   ],
   "source": [
    "sumvalues({1: 1,2:4, 3: 9, 4:16, 5:25})"
   ]
  },
  {
   "cell_type": "markdown",
   "id": "f52e2eb4",
   "metadata": {
    "id": "bea983a3"
   },
   "source": [
    "### Exercise 35:\n",
    "Use the `sorted()` function to sort the list `[3, 1, 4, 1, 5, 9]` in ascending order.\n",
    "\n",
    "```python"
   ]
  },
  {
   "cell_type": "code",
   "execution_count": 14,
   "id": "b1e2147f",
   "metadata": {
    "id": "bea983a3"
   },
   "outputs": [
    {
     "data": {
      "text/plain": [
       "[1, 1, 3, 4, 5, 9]"
      ]
     },
     "execution_count": 14,
     "metadata": {},
     "output_type": "execute_result"
    }
   ],
   "source": [
    "# Exercise 35\n",
    "sorted([3, 1, 4, 1, 5, 9])"
   ]
  },
  {
   "cell_type": "markdown",
   "id": "5d15a209",
   "metadata": {
    "id": "bea983a3"
   },
   "source": [
    "### Exercise 36:\n",
    "Write a Python function that takes a list of strings as input and returns the longest string.\n",
    "\n",
    "```python"
   ]
  },
  {
   "cell_type": "code",
   "execution_count": 105,
   "id": "158afa8c",
   "metadata": {
    "id": "bea983a3"
   },
   "outputs": [
    {
     "data": {
      "text/plain": [
       "'bananaaaa'"
      ]
     },
     "execution_count": 105,
     "metadata": {},
     "output_type": "execute_result"
    }
   ],
   "source": [
    "# Exercise 36\n",
    "def longest(liste):\n",
    "    longest_string = \"\"\n",
    "    for word in liste:\n",
    "         if len(word) > len(longest_string):\n",
    "                longest_string = word\n",
    "    return longest_string\n",
    "        \n",
    "            \n",
    "        \n",
    "\n",
    "longest([\"apple\", \"bananaaaa\", \"cherry\"])"
   ]
  },
  {
   "cell_type": "markdown",
   "id": "81e315d1",
   "metadata": {
    "id": "bea983a3"
   },
   "source": [
    "### Exercise 37:\n",
    "Check if all the elements in the list `[1, 2, 3, 4, 5]` are greater than 0 using the `all()` function.\n",
    "\n",
    "```python"
   ]
  },
  {
   "cell_type": "code",
   "execution_count": 20,
   "id": "488a5a0d",
   "metadata": {
    "id": "bea983a3"
   },
   "outputs": [
    {
     "data": {
      "text/plain": [
       "True"
      ]
     },
     "execution_count": 20,
     "metadata": {},
     "output_type": "execute_result"
    }
   ],
   "source": [
    "# Exercise 37\n",
    "a = [1, 2, 3, 4, 5]\n",
    "all(a)"
   ]
  },
  {
   "cell_type": "markdown",
   "id": "39ea5c65",
   "metadata": {
    "id": "bea983a3"
   },
   "source": [
    "### Exercise 38:\n",
    "Create a list of tuples where each tuple contains a number and its square for numbers from 1 to 5.\n",
    "\n",
    "```python"
   ]
  },
  {
   "cell_type": "code",
   "execution_count": 139,
   "id": "a05e57e0",
   "metadata": {
    "id": "bea983a3"
   },
   "outputs": [
    {
     "data": {
      "text/plain": [
       "[(1, 1), (2, 4), (3, 9), (4, 16), (5, 25)]"
      ]
     },
     "execution_count": 139,
     "metadata": {},
     "output_type": "execute_result"
    }
   ],
   "source": [
    "# Exercise 38\n",
    "\n",
    "a = [(x,x**2) for x in range(1,6)]\n",
    "a"
   ]
  },
  {
   "cell_type": "markdown",
   "id": "7ef156f9",
   "metadata": {
    "id": "bea983a3"
   },
   "source": [
    "### Exercise 39:\n",
    "Write a Python function that takes a list of tuples and returns a list of the second elements from each tuple.\n",
    "\n",
    "```python"
   ]
  },
  {
   "cell_type": "code",
   "execution_count": 140,
   "id": "673e78b9",
   "metadata": {
    "id": "bea983a3"
   },
   "outputs": [
    {
     "data": {
      "text/plain": [
       "[1, 4, 9, 16, 25]"
      ]
     },
     "execution_count": 140,
     "metadata": {},
     "output_type": "execute_result"
    }
   ],
   "source": [
    "# Exercise 39\n",
    "def listTuple(liste):\n",
    "    new_list = []\n",
    "    for i in range (len(liste)):\n",
    "        new_list.append(liste[i][1])\n",
    "    return new_list\n",
    "    \n",
    "a = [(x,x**2) for x in range(1,6)]  \n",
    "a\n",
    "listTuple(a)\n",
    "    "
   ]
  },
  {
   "cell_type": "markdown",
   "id": "80a088cc",
   "metadata": {
    "id": "bea983a3"
   },
   "source": [
    "### Exercise 40:\n",
    "Write a Python function that flattens a list of lists into a single list.\n",
    "\n",
    "```python"
   ]
  },
  {
   "cell_type": "code",
   "execution_count": 142,
   "id": "feff9e40",
   "metadata": {
    "id": "bea983a3"
   },
   "outputs": [
    {
     "data": {
      "text/plain": [
       "[1, 2, 3, 4, 5]"
      ]
     },
     "execution_count": 142,
     "metadata": {},
     "output_type": "execute_result"
    }
   ],
   "source": [
    "# Exercise 40\n",
    "def flattens(liste):\n",
    "    return liste[0][::1]\n",
    "a = [[1, 2, 3, 4, 5]]\n",
    "flattens(a)\n"
   ]
  },
  {
   "cell_type": "markdown",
   "id": "2bcc84b8",
   "metadata": {
    "id": "bea983a3"
   },
   "source": [
    "### Exercise 41:\n",
    "Use the `enumerate()` function to iterate through the list `[\"apple\", \"banana\", \"cherry\"]` and print the index and value.\n",
    "\n",
    "```python"
   ]
  },
  {
   "cell_type": "code",
   "execution_count": 2,
   "id": "8c35270a",
   "metadata": {
    "id": "bea983a3"
   },
   "outputs": [
    {
     "ename": "AttributeError",
     "evalue": "'list' object has no attribute 'values'",
     "output_type": "error",
     "traceback": [
      "\u001b[1;31m---------------------------------------------------------------------------\u001b[0m",
      "\u001b[1;31mAttributeError\u001b[0m                            Traceback (most recent call last)",
      "\u001b[1;32m~\\AppData\\Local\\Temp\\ipykernel_2332\\1463472842.py\u001b[0m in \u001b[0;36m<module>\u001b[1;34m\u001b[0m\n\u001b[0;32m      1\u001b[0m \u001b[1;31m# Exercise 41\u001b[0m\u001b[1;33m\u001b[0m\u001b[1;33m\u001b[0m\u001b[0m\n\u001b[0;32m      2\u001b[0m \u001b[0mfruits\u001b[0m \u001b[1;33m=\u001b[0m \u001b[1;33m[\u001b[0m\u001b[1;34m\"apple\"\u001b[0m\u001b[1;33m,\u001b[0m \u001b[1;34m\"banana\"\u001b[0m\u001b[1;33m,\u001b[0m \u001b[1;34m\"cherry\"\u001b[0m\u001b[1;33m]\u001b[0m\u001b[1;33m\u001b[0m\u001b[1;33m\u001b[0m\u001b[0m\n\u001b[1;32m----> 3\u001b[1;33m \u001b[0menumerate\u001b[0m\u001b[1;33m(\u001b[0m\u001b[0mfruits\u001b[0m\u001b[1;33m.\u001b[0m\u001b[0mindex\u001b[0m\u001b[1;33m,\u001b[0m\u001b[0mfruits\u001b[0m\u001b[1;33m.\u001b[0m\u001b[0mvalues\u001b[0m\u001b[1;33m)\u001b[0m\u001b[1;33m\u001b[0m\u001b[1;33m\u001b[0m\u001b[0m\n\u001b[0m",
      "\u001b[1;31mAttributeError\u001b[0m: 'list' object has no attribute 'values'"
     ]
    }
   ],
   "source": [
    "# Exercise 41\n",
    "fruits = [\"apple\", \"banana\", \"cherry\"]\n",
    "enumerate(fruits.index,fruits.values)"
   ]
  },
  {
   "cell_type": "markdown",
   "id": "ef905bf6",
   "metadata": {
    "id": "bea983a3"
   },
   "source": [
    "### Exercise 42:\n",
    "Write a Python program that checks if a tuple is empty.\n",
    "\n",
    "```python"
   ]
  },
  {
   "cell_type": "code",
   "execution_count": 9,
   "id": "872c5cf8",
   "metadata": {
    "id": "bea983a3"
   },
   "outputs": [
    {
     "data": {
      "text/plain": [
       "False"
      ]
     },
     "execution_count": 9,
     "metadata": {},
     "output_type": "execute_result"
    }
   ],
   "source": [
    "# Exercise 4\n",
    "t = (1,2)\n",
    "t == ()"
   ]
  },
  {
   "cell_type": "markdown",
   "id": "612a250b",
   "metadata": {
    "id": "bea983a3"
   },
   "source": [
    "### Exercise 43:\n",
    "Create a list of even numbers between 1 and 20 using the `range()` function.\n",
    "\n",
    "```python"
   ]
  },
  {
   "cell_type": "code",
   "execution_count": 11,
   "id": "b7b0e5f0",
   "metadata": {
    "id": "bea983a3"
   },
   "outputs": [
    {
     "data": {
      "text/plain": [
       "[1, 2, 3, 4, 5, 6, 7, 8, 9, 10, 11, 12, 13, 14, 15, 16, 17, 18, 19]"
      ]
     },
     "execution_count": 11,
     "metadata": {},
     "output_type": "execute_result"
    }
   ],
   "source": [
    "# Exercise 43\n",
    "a = [x for x in range(1,20)]\n",
    "a"
   ]
  },
  {
   "cell_type": "markdown",
   "id": "296d6f2d",
   "metadata": {
    "id": "bea983a3"
   },
   "source": [
    "### Exercise 44:\n",
    "Write a Python function that takes a list of numbers as input and returns the list in reverse order.\n",
    "\n",
    "```python"
   ]
  },
  {
   "cell_type": "code",
   "execution_count": 29,
   "id": "31e6ff6f",
   "metadata": {
    "id": "bea983a3"
   },
   "outputs": [],
   "source": [
    "# Exercise 44\n",
    "def reverseList(liste):\n",
    "    return liste[::-1]"
   ]
  },
  {
   "cell_type": "markdown",
   "id": "15a6a25e",
   "metadata": {
    "id": "bea983a3"
   },
   "source": [
    "### Exercise 45:\n",
    "Create a dictionary comprehension that maps numbers from 1 to 5 to their cubes.\n",
    "\n",
    "```python"
   ]
  },
  {
   "cell_type": "code",
   "execution_count": 40,
   "id": "a225e579",
   "metadata": {
    "id": "bea983a3"
   },
   "outputs": [],
   "source": [
    "# Exercise 45\n",
    "cube = [i*i*i for i in range(1,5)]"
   ]
  },
  {
   "cell_type": "markdown",
   "id": "8adf2d76",
   "metadata": {
    "id": "bea983a3"
   },
   "source": [
    "### Exercise 46:\n",
    "Write a Python program that creates a new list containing only the unique elements of the list `[1, 2, 2, 3, 4, 4, 5]`.\n",
    "\n",
    "```python"
   ]
  },
  {
   "cell_type": "code",
   "execution_count": 44,
   "id": "26c7f632",
   "metadata": {
    "id": "bea983a3"
   },
   "outputs": [
    {
     "data": {
      "text/plain": [
       "{1, 2, 3, 4, 5}"
      ]
     },
     "execution_count": 44,
     "metadata": {},
     "output_type": "execute_result"
    }
   ],
   "source": [
    "# Exercise 46\n",
    "def uniqueElement(liste):\n",
    "    return set(liste)\n",
    "uniqueElement([1, 2, 2, 3, 4, 4, 5])"
   ]
  },
  {
   "cell_type": "markdown",
   "id": "e4bb629d",
   "metadata": {
    "id": "bea983a3"
   },
   "source": [
    "### Exercise 47:\n",
    "Write a Python function that takes a list of dictionaries and returns a list of the values for a given key.\n",
    "\n",
    "```python"
   ]
  },
  {
   "cell_type": "code",
   "execution_count": null,
   "id": "8b1224d5",
   "metadata": {
    "id": "bea983a3"
   },
   "outputs": [],
   "source": [
    "# Exercise 47\n",
    "def keysvalues(listdict):\n",
    "    return listdict.keys\n",
    " # "
   ]
  },
  {
   "cell_type": "markdown",
   "id": "768dcb28",
   "metadata": {
    "id": "bea983a3"
   },
   "source": [
    "### Exercise 48:\n",
    "Write a Python function that uses a generator to yield the Fibonacci sequence up to `n` terms.\n",
    "\n",
    "```python"
   ]
  },
  {
   "cell_type": "code",
   "execution_count": 44,
   "id": "111f4eb9",
   "metadata": {
    "id": "bea983a3"
   },
   "outputs": [],
   "source": [
    "# Exercise 48\n",
    "def fibonacci(n):\n",
    "    if n<=1:\n",
    "        return n\n",
    "    else:\n",
    "        return fibonacci(n-1) + fibonacci(n-2)\n",
    "        \n",
    "\n",
    "        "
   ]
  },
  {
   "cell_type": "code",
   "execution_count": 45,
   "id": "f65d041f",
   "metadata": {},
   "outputs": [
    {
     "data": {
      "text/plain": [
       "5"
      ]
     },
     "execution_count": 45,
     "metadata": {},
     "output_type": "execute_result"
    }
   ],
   "source": [
    "fibonacci(5)"
   ]
  },
  {
   "cell_type": "markdown",
   "id": "0897cb44",
   "metadata": {
    "id": "bea983a3"
   },
   "source": [
    "### Exercise 49:\n",
    "Write a Python function that takes a string and returns a list of all unique characters in the string.\n",
    "\n",
    "```python"
   ]
  },
  {
   "cell_type": "code",
   "execution_count": 60,
   "id": "4338c1ec",
   "metadata": {
    "id": "bea983a3"
   },
   "outputs": [
    {
     "data": {
      "text/plain": [
       "{'1', '2', '3', '4', '5', '6', '7'}"
      ]
     },
     "execution_count": 60,
     "metadata": {},
     "output_type": "execute_result"
    }
   ],
   "source": [
    "# Exercise 49\n",
    "x = \"111111111111123456777777777777777\"\n",
    "set(x)"
   ]
  },
  {
   "cell_type": "markdown",
   "id": "b45deebd",
   "metadata": {
    "id": "bea983a3"
   },
   "source": [
    "### Exercise 50:\n",
    "Write a Python function that merges two sorted lists into a single sorted list.\n",
    "\n",
    "```python"
   ]
  },
  {
   "cell_type": "code",
   "execution_count": 5,
   "id": "55dc8ac7",
   "metadata": {
    "id": "bea983a3"
   },
   "outputs": [],
   "source": [
    "# Exercise 50\n",
    "def fusionnelist(liste1, liste2):\n",
    "    liste1.extend(liste2)\n",
    "    return sorted(liste1)"
   ]
  },
  {
   "cell_type": "code",
   "execution_count": 6,
   "id": "64165bbd",
   "metadata": {},
   "outputs": [
    {
     "data": {
      "text/plain": [
       "[1, 3, 4, 7, 9, 10]"
      ]
     },
     "execution_count": 6,
     "metadata": {},
     "output_type": "execute_result"
    }
   ],
   "source": [
    "liste1 = [3,4,9]#[1, 2, 3, 4, 5, 6]\n",
    "liste2 = [1,7,10] # [ 8, 9, 10, 11, 16]\n",
    "fusionnelist(liste1,liste2)"
   ]
  },
  {
   "cell_type": "markdown",
   "id": "141278ce",
   "metadata": {
    "id": "bea983a3"
   },
   "source": [
    "### Exercise 51:\n",
    "Use the\n",
    "\n",
    " `filter()` function to filter out odd numbers from the list `[1, 2, 3, 4, 5, 6]`.\n",
    "\n",
    "```python"
   ]
  },
  {
   "cell_type": "code",
   "execution_count": 16,
   "id": "555c504f",
   "metadata": {
    "id": "bea983a3"
   },
   "outputs": [
    {
     "name": "stdout",
     "output_type": "stream",
     "text": [
      "[1, 3, 5]\n"
     ]
    }
   ],
   "source": [
    "### Exercise 51\n",
    "liste = [1, 2, 3, 4, 5, 6]\n",
    "resultat = filter(lambda x: x % 2==1, liste)\n",
    "print(list(resultat)) \n",
    "\n"
   ]
  },
  {
   "cell_type": "markdown",
   "id": "6f739b9c",
   "metadata": {
    "id": "bea983a3"
   },
   "source": [
    "### Exercise 52:\n",
    "Write a Python program that converts a list of tuples `[(1, 2), (3, 4), (5, 6)]` into a dictionary.\n",
    "\n",
    "```python"
   ]
  },
  {
   "cell_type": "code",
   "execution_count": 28,
   "id": "d6804960",
   "metadata": {},
   "outputs": [
    {
     "data": {
      "text/plain": [
       "((1, 2), (3, 4), (5, 6))"
      ]
     },
     "execution_count": 28,
     "metadata": {},
     "output_type": "execute_result"
    }
   ],
   "source": [
    "liste = [(1, 2), (3, 4), (5, 6)]\n",
    "tuple(liste)"
   ]
  },
  {
   "cell_type": "markdown",
   "id": "337fef52",
   "metadata": {
    "id": "bea983a3"
   },
   "source": [
    "# Exercise 52\n",
    "```\n",
    "\n",
    "---"
   ]
  },
  {
   "cell_type": "markdown",
   "id": "176a5453",
   "metadata": {
    "id": "bea983a3"
   },
   "source": [
    "### Exercise 53:\n",
    "Write a Python function that takes two sets and returns their symmetric difference.\n",
    "\n",
    "```python"
   ]
  },
  {
   "cell_type": "code",
   "execution_count": 30,
   "id": "92421021",
   "metadata": {
    "id": "bea983a3"
   },
   "outputs": [
    {
     "name": "stdout",
     "output_type": "stream",
     "text": [
      "{1, 2, 5, 6}\n"
     ]
    }
   ],
   "source": [
    "# Exercise 53\n",
    "def symmetric_diff(set1, set2):\n",
    "    return set1.symmetric_difference(set2)\n",
    "\n",
    "# Example usage\n",
    "A = {1, 2, 3, 4}\n",
    "B = {3, 4, 5, 6}\n",
    "\n",
    "result = symmetric_diff(A, B)\n",
    "print(result)"
   ]
  },
  {
   "cell_type": "markdown",
   "id": "0fa93b73",
   "metadata": {
    "id": "bea983a3"
   },
   "source": [
    "### Exercise 54:\n",
    "Write a Python program that finds the common elements in three lists `list1`, `list2`, and `list3`.\n",
    "\n",
    "```python"
   ]
  },
  {
   "cell_type": "code",
   "execution_count": 38,
   "id": "07692e0f",
   "metadata": {
    "id": "bea983a3"
   },
   "outputs": [
    {
     "data": {
      "text/plain": [
       "3"
      ]
     },
     "execution_count": 38,
     "metadata": {},
     "output_type": "execute_result"
    }
   ],
   "source": [
    "# Exercise 54\n",
    "def common(list1,list2,list3):\n",
    "    for i in list1:\n",
    "        if i in list2 and i in list3:\n",
    "            return i\n",
    "\n",
    "A = [1, 2, 3, 4]\n",
    "B = [3, 7, 5, 6]\n",
    "C = [3, 7, 8, 9]\n",
    "common(A,B,C)\n",
    "                "
   ]
  },
  {
   "cell_type": "markdown",
   "id": "c75d48f2",
   "metadata": {
    "id": "bea983a3"
   },
   "source": [
    "### Exercise 55:\n",
    "Write a Python function that returns the factorial of a number using recursion.\n",
    "\n",
    "```python"
   ]
  },
  {
   "cell_type": "code",
   "execution_count": 25,
   "id": "2bedcc13",
   "metadata": {
    "id": "bea983a3"
   },
   "outputs": [
    {
     "data": {
      "text/plain": [
       "6"
      ]
     },
     "execution_count": 25,
     "metadata": {},
     "output_type": "execute_result"
    }
   ],
   "source": [
    "# Exercise 55\n",
    "def factorial(n):\n",
    "    if(n<0):\n",
    "        print(\"Le factoriel doit etre un nombre positif\")\n",
    "    elif(n<=1):\n",
    "        return 1\n",
    "    else:\n",
    "        return n*factorial(n-1)\n",
    "    \n",
    "factorial(3)"
   ]
  },
  {
   "cell_type": "markdown",
   "id": "3cc1ead5",
   "metadata": {
    "id": "bea983a3"
   },
   "source": [
    "### Exercise 56:\n",
    "Write a Python program that removes all empty strings from the list `[\"apple\", \"\", \"banana\", \"\", \"cherry\"]`.\n",
    "\n",
    "```python"
   ]
  },
  {
   "cell_type": "code",
   "execution_count": 62,
   "id": "6b6a94c5",
   "metadata": {
    "id": "bea983a3"
   },
   "outputs": [
    {
     "name": "stdout",
     "output_type": "stream",
     "text": [
      "['apple', 'banana', 'cherry']\n"
     ]
    }
   ],
   "source": [
    "# Exercise 56\n",
    "def removeList(liste):\n",
    "    return [x for x in liste if x != \"\"]\n",
    "\n",
    "a = removeList([\"apple\", \"\", \"banana\", \"\", \"cherry\"])\n",
    "print(a)"
   ]
  },
  {
   "cell_type": "markdown",
   "id": "78985023",
   "metadata": {
    "id": "bea983a3"
   },
   "source": [
    "### Exercise 57:\n",
    "Write a Python function that takes a dictionary and returns a new dictionary with the keys and values swapped.\n",
    "\n",
    "```python"
   ]
  },
  {
   "cell_type": "code",
   "execution_count": 111,
   "id": "0560b70b",
   "metadata": {
    "id": "bea983a3"
   },
   "outputs": [
    {
     "data": {
      "text/plain": [
       "{1: 1, 4: 2, 9: 3, 16: 4, 25: 5}"
      ]
     },
     "execution_count": 111,
     "metadata": {},
     "output_type": "execute_result"
    }
   ],
   "source": [
    "# Exercise 57\n",
    "def swapping(my_dict):\n",
    "    new_dict = {}\n",
    "    for key, value in my_dict.items():\n",
    "        new_dict[value] = key  \n",
    "    return new_dict\n",
    "        \n",
    "      \n",
    "   \n",
    "        \n",
    "my_dict = {1: 1,2:4, 3: 9, 4:16, 5:25}\n",
    "dict(swapping(my_dict))\n",
    "\n",
    "\n",
    "\n"
   ]
  },
  {
   "cell_type": "markdown",
   "id": "4f7e4dbf",
   "metadata": {
    "id": "bea983a3"
   },
   "source": [
    "### Exercise 58:\n",
    "Write a Python function that takes a list of integers and returns a new list with only the even numbers.\n",
    "\n",
    "```python"
   ]
  },
  {
   "cell_type": "code",
   "execution_count": 125,
   "id": "d24ea2c5",
   "metadata": {
    "id": "bea983a3"
   },
   "outputs": [
    {
     "data": {
      "text/plain": [
       "[2, 4, 4, 16]"
      ]
     },
     "execution_count": 125,
     "metadata": {},
     "output_type": "execute_result"
    }
   ],
   "source": [
    "# Exercise 58\n",
    "def even_number(liste):\n",
    "    return [x for x in liste if x%2 == 0]\n",
    "\n",
    "liste = [1,2,4,3,9,4, 16,5,25]\n",
    "even_number(liste)\n",
    "    "
   ]
  },
  {
   "cell_type": "markdown",
   "id": "4b4af28b",
   "metadata": {
    "id": "bea983a3"
   },
   "source": [
    "### Exercise 59:\n",
    "Write a Python function that takes a list of tuples and returns a list of the first elements of each tuple.\n",
    "\n",
    "```python"
   ]
  },
  {
   "cell_type": "code",
   "execution_count": 17,
   "id": "db8067c3",
   "metadata": {
    "id": "bea983a3"
   },
   "outputs": [
    {
     "data": {
      "text/plain": [
       "[1, 5]"
      ]
     },
     "execution_count": 17,
     "metadata": {},
     "output_type": "execute_result"
    }
   ],
   "source": [
    "# Exercise 59\n",
    "def firstElement(liste):\n",
    "    return [x[0] for x in liste]\n",
    "\n",
    "liste = [(1,2), (5,6)]\n",
    "firstElement(liste)\n",
    "    \n"
   ]
  },
  {
   "cell_type": "markdown",
   "id": "cfbd2045",
   "metadata": {
    "id": "bea983a3"
   },
   "source": [
    "### Exercise 60:\n",
    "Write a Python program that removes duplicates from a list without changing the order of elements.\n",
    "\n",
    "```python"
   ]
  },
  {
   "cell_type": "code",
   "execution_count": 26,
   "id": "5e85ca6a",
   "metadata": {
    "id": "bea983a3"
   },
   "outputs": [
    {
     "name": "stdout",
     "output_type": "stream",
     "text": [
      "After removing duplicates: [1, 2, 3, 4, 5]\n"
     ]
    }
   ],
   "source": [
    "# Exercise 60\n",
    "def remove_duplicates(lst):\n",
    "    seen = set()\n",
    "    return [x for x in lst if not (x in seen or seen.add(x))]\n",
    "\n",
    "# Example usage\n",
    "original_list = [1, 2, 3, 2, 4, 1, 5, 3]\n",
    "result = remove_duplicates(original_list)\n",
    "print(f\"After removing duplicates: {result}\")\n",
    "    \n",
    "    \n",
    "    "
   ]
  },
  {
   "cell_type": "markdown",
   "id": "33533287",
   "metadata": {
    "id": "bea983a3"
   },
   "source": [
    "### Exercise 61:\n",
    "Use the `map()` function to convert a list of strings to a list of their lengths.\n",
    "\n",
    "```python"
   ]
  },
  {
   "cell_type": "code",
   "execution_count": 38,
   "id": "24e9918d",
   "metadata": {
    "id": "bea983a3"
   },
   "outputs": [
    {
     "name": "stdout",
     "output_type": "stream",
     "text": [
      "[5, 0, 6, 0, 6]\n"
     ]
    }
   ],
   "source": [
    "# Exercise 61\n",
    "liste = [\"apple\", \"\", \"banana\", \"\", \"avocat\"]\n",
    "resultat = list(map(len, liste))\n",
    "print(resultat)"
   ]
  },
  {
   "cell_type": "markdown",
   "id": "bb02e5b2",
   "metadata": {
    "id": "bea983a3"
   },
   "source": [
    "### Exercise 62:\n",
    "Write a Python program that calculates the average of a list of numbers.\n",
    "\n",
    "```python"
   ]
  },
  {
   "cell_type": "code",
   "execution_count": 43,
   "id": "73629961",
   "metadata": {
    "id": "bea983a3"
   },
   "outputs": [
    {
     "data": {
      "text/plain": [
       "3.0"
      ]
     },
     "execution_count": 43,
     "metadata": {},
     "output_type": "execute_result"
    }
   ],
   "source": [
    "# Exercise 62\n",
    "def average(liste):\n",
    "    return sum(liste) / len(liste)\n",
    "\n",
    "average([1, 2, 3, 4, 5])"
   ]
  },
  {
   "cell_type": "markdown",
   "id": "15e40108",
   "metadata": {
    "id": "bea983a3"
   },
   "source": [
    "### Exercise 63:\n",
    "Write a Python function that generates a list of the first `n` Fibonacci numbers.\n",
    "\n",
    "```python"
   ]
  },
  {
   "cell_type": "code",
   "execution_count": 47,
   "id": "41e16e16",
   "metadata": {
    "id": "bea983a3"
   },
   "outputs": [
    {
     "data": {
      "text/plain": [
       "[0, 1, 1, 2, 3]"
      ]
     },
     "execution_count": 47,
     "metadata": {},
     "output_type": "execute_result"
    }
   ],
   "source": [
    "# Exercise 63\n",
    "def fibonaccinumbers(n):\n",
    "    return [fibonacci(i) for i in range(n)]\n",
    "fibonaccinumbers(5)"
   ]
  },
  {
   "cell_type": "markdown",
   "id": "c84ff725",
   "metadata": {
    "id": "bea983a3"
   },
   "source": [
    "### Exercise 64:\n",
    "Write a Python program that counts how many times each element appears in the list `[\"apple\", \"banana\", \"apple\", \"cherry\"]`.\n",
    "\n",
    "```python"
   ]
  },
  {
   "cell_type": "code",
   "execution_count": 49,
   "id": "2e60b9c3",
   "metadata": {
    "id": "bea983a3"
   },
   "outputs": [
    {
     "name": "stdout",
     "output_type": "stream",
     "text": [
      "{'apple': 2, 'banana': 1, 'cherry': 1}\n"
     ]
    }
   ],
   "source": [
    "# Exercise 64\n",
    "def times_element(liste):\n",
    "    counts = {}\n",
    "\n",
    "    for fruit in fruits:\n",
    "        if fruit in counts:\n",
    "            counts[fruit] += 1\n",
    "        else:\n",
    "            counts[fruit] = 1\n",
    "\n",
    "    print(counts)\n",
    "fruits = [\"apple\", \"banana\", \"apple\", \"cherry\"]\n",
    "times_element(fruits)"
   ]
  },
  {
   "cell_type": "markdown",
   "id": "dbce2b2b",
   "metadata": {
    "id": "bea983a3"
   },
   "source": [
    "### Exercise 65:\n",
    "Write a Python program that removes all occurrences of a specific value from a list.\n",
    "\n",
    "```python"
   ]
  },
  {
   "cell_type": "code",
   "execution_count": 55,
   "id": "e918d32b",
   "metadata": {
    "id": "bea983a3"
   },
   "outputs": [
    {
     "name": "stdout",
     "output_type": "stream",
     "text": [
      "[1, 3, 4]\n"
     ]
    }
   ],
   "source": [
    "# Exercise 65\n",
    "def remove_value(lst, value):\n",
    "    while value in lst:\n",
    "        lst.remove(value)\n",
    "    return lst\n",
    "\n",
    "numbers = [1, 2, 2, 3, 2, 4]\n",
    "remove_value(numbers, 2)\n",
    "print(numbers)\n",
    "\n",
    "\n"
   ]
  },
  {
   "cell_type": "markdown",
   "id": "6c696dbc",
   "metadata": {
    "id": "bea983a3"
   },
   "source": [
    "### Exercise 66:\n",
    "Write a Python function that takes a list of strings and returns a list of the strings that start with a vowel.\n",
    "\n",
    "```python"
   ]
  },
  {
   "cell_type": "code",
   "execution_count": 55,
   "id": "2e18c18d",
   "metadata": {
    "id": "bea983a3"
   },
   "outputs": [
    {
     "data": {
      "text/plain": [
       "['apple', 'apple', 'ananas']"
      ]
     },
     "execution_count": 55,
     "metadata": {},
     "output_type": "execute_result"
    }
   ],
   "source": [
    "# Exercise 66\n",
    "def startvowel(liste):\n",
    "    new_list = [x for x in liste if x[0]=='a' or x[0]=='o' or x[0]=='u' or x[0]=='i' or x[0]=='e' or x[0]=='y']\n",
    "    return new_list\n",
    "    \n",
    "fruits = [\"apple\", \"banana\", \"apple\", \"cherry\", \"ananas\"]\n",
    "startvowel(fruits)"
   ]
  },
  {
   "cell_type": "markdown",
   "id": "14095377",
   "metadata": {
    "id": "bea983a3"
   },
   "source": [
    "### Exercise 67:\n",
    "Write a Python program that finds the intersection of two sets `set1` and `set2`.\n",
    "\n",
    "```python"
   ]
  },
  {
   "cell_type": "code",
   "execution_count": 58,
   "id": "efa14504",
   "metadata": {
    "id": "bea983a3"
   },
   "outputs": [
    {
     "data": {
      "text/plain": [
       "[4, 5]"
      ]
     },
     "execution_count": 58,
     "metadata": {},
     "output_type": "execute_result"
    }
   ],
   "source": [
    "# Exercise 67\n",
    "def intersection(set1, set2):\n",
    "    return [x for x in set1 if x in set1 and x in set2]\n",
    "\n",
    "set1 = {1, 3, 4, 5}\n",
    "set2 = {4,5,6,7}\n",
    "intersection(set1, set2)"
   ]
  },
  {
   "cell_type": "markdown",
   "id": "76c742fb",
   "metadata": {
    "id": "bea983a3"
   },
   "source": [
    "### Exercise 68:\n",
    "Write a Python function that flattens a nested list.\n",
    "\n",
    "```python"
   ]
  },
  {
   "cell_type": "code",
   "execution_count": null,
   "id": "cf3faa31",
   "metadata": {
    "id": "bea983a3"
   },
   "outputs": [],
   "source": [
    "# Exercise 68\n"
   ]
  },
  {
   "cell_type": "markdown",
   "id": "0158b3fa",
   "metadata": {
    "id": "bea983a3"
   },
   "source": [
    "### Exercise 69:\n",
    "Write a Python program that checks if all the elements in a list are unique.\n",
    "\n",
    "```python"
   ]
  },
  {
   "cell_type": "code",
   "execution_count": 5,
   "id": "1b520510",
   "metadata": {
    "id": "bea983a3"
   },
   "outputs": [
    {
     "name": "stdout",
     "output_type": "stream",
     "text": [
      "All the elements in the list are not unique\n"
     ]
    }
   ],
   "source": [
    "# Exercise 69\n",
    "def unique_element(liste):\n",
    "    if len(liste)==len(set(liste)):\n",
    "        print(\"All the elements in the list are unique\")\n",
    "    else:\n",
    "        print(\"All the elements in the list are not unique\")\n",
    "        \n",
    "\n",
    "unique_element([1, 3, 4, 5,1,2])\n",
    "    \n",
    "    \n"
   ]
  },
  {
   "cell_type": "markdown",
   "id": "f989682f",
   "metadata": {
    "id": "bea983a3"
   },
   "source": [
    "### Exercise 70:\n",
    "Use the `reduce()` function from the `functools` module to multiply all elements in a list.\n",
    "\n",
    "```python"
   ]
  },
  {
   "cell_type": "code",
   "execution_count": 8,
   "id": "fdbe4b7f",
   "metadata": {
    "id": "bea983a3"
   },
   "outputs": [
    {
     "data": {
      "text/plain": [
       "120"
      ]
     },
     "execution_count": 8,
     "metadata": {},
     "output_type": "execute_result"
    }
   ],
   "source": [
    "# Exercise 70 \n",
    "from functools import reduce\n",
    "liste = [1, 3, 4, 5,1,2]\n",
    "result = reduce(lambda x, y: x * y, liste)\n",
    "result"
   ]
  },
  {
   "cell_type": "markdown",
   "id": "e6e0959a",
   "metadata": {
    "id": "bea983a3"
   },
   "source": [
    "### Exercise 71:\n",
    "Write a Python function that takes a list of strings and returns a dictionary where keys are strings and values are their lengths.\n",
    "\n",
    "```python"
   ]
  },
  {
   "cell_type": "code",
   "execution_count": 27,
   "id": "27ac7b5f",
   "metadata": {
    "id": "bea983a3"
   },
   "outputs": [
    {
     "name": "stdout",
     "output_type": "stream",
     "text": [
      "{'apple': 5, 'banana': 6, 'cherry': 6, 'ananas': 6}\n"
     ]
    }
   ],
   "source": [
    "# Exercise 71\n",
    "def dictionnaire(liste):\n",
    "    result = {x: len(x) for x in liste}\n",
    "    return result\n",
    "\n",
    "fruits = [\"apple\", \"banana\", \"apple\", \"cherry\", \"ananas\"]\n",
    "print(dictionnaire(fruits))"
   ]
  },
  {
   "cell_type": "markdown",
   "id": "077ba621",
   "metadata": {
    "id": "bea983a3"
   },
   "source": [
    "### Exercise 72:\n",
    "Write a Python program that counts the number of vowels in a string.\n",
    "\n",
    "```python"
   ]
  },
  {
   "cell_type": "code",
   "execution_count": 20,
   "id": "b5a8ca82",
   "metadata": {
    "id": "bea983a3"
   },
   "outputs": [
    {
     "name": "stdout",
     "output_type": "stream",
     "text": [
      "3\n"
     ]
    }
   ],
   "source": [
    "# Exercise 72\n",
    "string = \"Khadija\"\n",
    "count = 0\n",
    "for i in range (len(string)):\n",
    "    if string[i] == \"a\" or string[i] == \"e\" or string[i] == \"i\" or string[i] == \"u\" or string[i] == \"y\":\n",
    "        count +=1\n",
    "print(count)\n"
   ]
  },
  {
   "cell_type": "markdown",
   "id": "9dcc3ee9",
   "metadata": {
    "id": "bea983a3"
   },
   "source": [
    "### Exercise 73:\n",
    "Create a list of tuples where each tuple contains a number from 1 to 5 and its factorial.\n",
    "\n",
    "```python"
   ]
  },
  {
   "cell_type": "code",
   "execution_count": 30,
   "id": "f221e433",
   "metadata": {
    "id": "bea983a3"
   },
   "outputs": [
    {
     "data": {
      "text/plain": [
       "{1, 2, 6, 24, 120}"
      ]
     },
     "execution_count": 30,
     "metadata": {},
     "output_type": "execute_result"
    }
   ],
   "source": [
    "# Exercise 73\n",
    "result = {factorial(x) for x in range(1,6)} # J'ai utilisé la fonction factorial créé dans l'exercice 55\n",
    "result\n"
   ]
  },
  {
   "cell_type": "markdown",
   "id": "a9466d0a",
   "metadata": {
    "id": "bea983a3"
   },
   "source": [
    "### Exercise 74:\n",
    "Write a Python program that converts a list of dictionaries into a single dictionary by merging them.\n",
    "\n",
    "```python"
   ]
  },
  {
   "cell_type": "code",
   "execution_count": 31,
   "id": "5e39bd3f",
   "metadata": {
    "id": "bea983a3"
   },
   "outputs": [
    {
     "name": "stdout",
     "output_type": "stream",
     "text": [
      "{'a': 1, 'b': 2, 'c': 3, 'd': 4, 'e': 5}\n"
     ]
    }
   ],
   "source": [
    "# Exercise 74\n",
    "list_dicts = [\n",
    "    {\"a\": 1, \"b\": 2},\n",
    "    {\"c\": 3},\n",
    "    {\"d\": 4, \"e\": 5}\n",
    "]\n",
    "\n",
    "merged_dict = {}\n",
    "for d in list_dicts:\n",
    "    merged_dict.update(d)\n",
    "\n",
    "print(merged_dict)\n",
    "\n"
   ]
  },
  {
   "cell_type": "markdown",
   "id": "bad17340",
   "metadata": {
    "id": "bea983a3"
   },
   "source": []
  },
  {
   "cell_type": "markdown",
   "id": "11b45e3a",
   "metadata": {
    "id": "bea983a3"
   },
   "source": [
    "### Exercise 75:\n",
    "Write a Python function that checks if a set is a subset of another set.\n",
    "\n",
    "```python"
   ]
  },
  {
   "cell_type": "code",
   "execution_count": 40,
   "id": "e1f28d1f",
   "metadata": {
    "id": "bea983a3"
   },
   "outputs": [
    {
     "data": {
      "text/plain": [
       "True"
      ]
     },
     "execution_count": 40,
     "metadata": {},
     "output_type": "execute_result"
    }
   ],
   "source": [
    "# Exercise 75\n",
    "def subset(set1, set2):\n",
    "    for elem in set1:\n",
    "        if elem not in set2:\n",
    "            return False\n",
    "    return True\n",
    "set2 = {1, 2, 6, 24, 120}\n",
    "set1 = {1, 2, 6, 120}\n",
    "subset(set1, set2)"
   ]
  },
  {
   "cell_type": "markdown",
   "id": "3dd6949b",
   "metadata": {
    "id": "bea983a3"
   },
   "source": [
    "### Exercise 76:\n",
    "Write a Python program that sorts a list of tuples based on the second element in each tuple.\n",
    "\n",
    "```python"
   ]
  },
  {
   "cell_type": "code",
   "execution_count": 42,
   "id": "e4b030e9",
   "metadata": {
    "id": "bea983a3"
   },
   "outputs": [
    {
     "name": "stdout",
     "output_type": "stream",
     "text": [
      "[2, 7]\n"
     ]
    }
   ],
   "source": [
    "# Exercise 76\n",
    "data = [(1, 3), (2, 7), (4, 8), (3, 5)]\n",
    "sorted_data = sorted(data, key=lambda x: x[1])\n",
    "print(sorted_data)\n"
   ]
  },
  {
   "cell_type": "markdown",
   "id": "93380b10",
   "metadata": {
    "id": "bea983a3"
   },
   "source": [
    "### Exercise 77:\n",
    "Write a Python function that takes a list of integers and returns a new list with only the positive integers.\n",
    "\n",
    "```python"
   ]
  },
  {
   "cell_type": "code",
   "execution_count": 45,
   "id": "10490d5b",
   "metadata": {
    "id": "bea983a3"
   },
   "outputs": [
    {
     "data": {
      "text/plain": [
       "[1, 6, 120]"
      ]
     },
     "execution_count": 45,
     "metadata": {},
     "output_type": "execute_result"
    }
   ],
   "source": [
    "# Exercise 77\n",
    "def positive_integer(liste):\n",
    "    return [x for x in liste if x>0]\n",
    "positive_integer([1, -2, 6, -24, 120])"
   ]
  },
  {
   "cell_type": "markdown",
   "id": "1a554b6d",
   "metadata": {
    "id": "bea983a3"
   },
   "source": [
    "### Exercise 78:\n",
    "Write a Python function that takes two sets and returns their union.\n",
    "\n",
    "```python"
   ]
  },
  {
   "cell_type": "code",
   "execution_count": 4,
   "id": "2fbff038",
   "metadata": {
    "id": "bea983a3"
   },
   "outputs": [
    {
     "data": {
      "text/plain": [
       "[120, 1, 2, 6]"
      ]
     },
     "execution_count": 4,
     "metadata": {},
     "output_type": "execute_result"
    }
   ],
   "source": [
    "# Exercise 78\n",
    "def union_set(set1,set2):\n",
    "    return [x for x in set1 if x in set1 or x in set2]\n",
    "\n",
    "set2 = {1, 2, 6, 24, 120}\n",
    "set1 = {1, 2, 6, 120}\n",
    "union_set(set1,set2)"
   ]
  },
  {
   "cell_type": "markdown",
   "id": "95274c0c",
   "metadata": {
    "id": "bea983a3"
   },
   "source": [
    "### Exercise 79:\n",
    "Write a Python function that takes a list of numbers and returns the product of all the numbers.\n",
    "\n",
    "```python"
   ]
  },
  {
   "cell_type": "code",
   "execution_count": 9,
   "id": "a491c5f2",
   "metadata": {
    "id": "bea983a3"
   },
   "outputs": [
    {
     "name": "stdout",
     "output_type": "stream",
     "text": [
      "24\n"
     ]
    }
   ],
   "source": [
    "# Exercise 79\n",
    "from functools import reduce\n",
    "def product_numbers(liste):\n",
    "    return reduce(lambda x, y: x * y, liste)\n",
    "\n",
    "print(product_numbers([2, 3, 4]))"
   ]
  },
  {
   "cell_type": "markdown",
   "id": "eea2f226",
   "metadata": {
    "id": "bea983a3"
   },
   "source": [
    "### Exercise 80:\n",
    "Write a Python program that converts a list of characters into a string.\n",
    "\n",
    "```python"
   ]
  },
  {
   "cell_type": "code",
   "execution_count": 17,
   "id": "561264b8",
   "metadata": {
    "id": "bea983a3"
   },
   "outputs": [
    {
     "data": {
      "text/plain": [
       "'Khadija'"
      ]
     },
     "execution_count": 17,
     "metadata": {},
     "output_type": "execute_result"
    }
   ],
   "source": [
    "# Exercise 80\n",
    "liste = [\"Khadija\"]\n",
    "string =\"\"\n",
    "for i in range (len(liste)):\n",
    "    string = string + liste[i]\n",
    "string\n",
    "#print(string)\n"
   ]
  },
  {
   "cell_type": "markdown",
   "id": "4841e064",
   "metadata": {
    "id": "bea983a3"
   },
   "source": [
    "### Exercise 81:\n",
    "Write a Python program that finds the second largest number in a list of integers.\n",
    "\n",
    "```python"
   ]
  },
  {
   "cell_type": "code",
   "execution_count": 20,
   "id": "80259477",
   "metadata": {
    "id": "bea983a3"
   },
   "outputs": [
    {
     "data": {
      "text/plain": [
       "6"
      ]
     },
     "execution_count": 20,
     "metadata": {},
     "output_type": "execute_result"
    }
   ],
   "source": [
    "# Exercise 81\n",
    "liste = [120, 1, 2, 6]\n",
    "a = sorted(liste)\n",
    "a[-2]\n"
   ]
  },
  {
   "cell_type": "markdown",
   "id": "1264a8e6",
   "metadata": {
    "id": "bea983a3"
   },
   "source": [
    "### Exercise 82:\n",
    "Write a Python function that takes a dictionary and returns a list of its keys in sorted order.\n",
    "\n",
    "```python"
   ]
  },
  {
   "cell_type": "code",
   "execution_count": 3,
   "id": "970406be",
   "metadata": {
    "id": "bea983a3"
   },
   "outputs": [
    {
     "name": "stdout",
     "output_type": "stream",
     "text": [
      "{'a': 1, 'b': 2, 'c': 3}\n"
     ]
    }
   ],
   "source": [
    "# Exercise 82\n",
    "def sorted_key(dictionnaire):\n",
    "    return {k: dictionnaire[k] for k in sorted(dictionnaire)}\n",
    "\n",
    "d = {'b': 2, 'a': 1, 'c': 3}\n",
    "print(sorted_key(d))"
   ]
  },
  {
   "cell_type": "markdown",
   "id": "8eef18a6",
   "metadata": {
    "id": "bea983a3"
   },
   "source": [
    "### Exercise 83:\n",
    "Write a Python program that finds the most common element in a list.\n",
    "\n",
    "```python"
   ]
  },
  {
   "cell_type": "code",
   "execution_count": 12,
   "id": "85b16a44",
   "metadata": {
    "id": "bea983a3"
   },
   "outputs": [
    {
     "name": "stdout",
     "output_type": "stream",
     "text": [
      "['apple', 'banana']\n"
     ]
    }
   ],
   "source": [
    "# Exercise 83\n",
    "def most_common_elements(lst):\n",
    "    counts = Counter(lst)\n",
    "    max_freq = max(counts.values())\n",
    "    return [k for k, v in counts.items() if v == max_freq]\n",
    "\n",
    "# Exemple\n",
    "fruits = [\"apple\", \"banana\", \"apple\", \"banana\", \"cherry\"]\n",
    "print(most_common_elements(fruits))"
   ]
  },
  {
   "cell_type": "markdown",
   "id": "e78fd723",
   "metadata": {
    "id": "bea983a3"
   },
   "source": [
    "### Exercise 84:\n",
    "Write a Python function that takes a list of tuples and returns a list of the tuples sorted by the first element.\n",
    "\n",
    "```python"
   ]
  },
  {
   "cell_type": "code",
   "execution_count": 6,
   "id": "3d372085",
   "metadata": {
    "id": "bea983a3"
   },
   "outputs": [
    {
     "name": "stdout",
     "output_type": "stream",
     "text": [
      "[(1, 3), (2, 7), (3, 5), (4, 8)]\n"
     ]
    }
   ],
   "source": [
    "# Exercise 84\n",
    "data = [(1, 3), (2, 7), (4, 8), (3, 5)]\n",
    "sorted_data = sorted(data, key=lambda x: x[0])\n",
    "print(sorted_data)\n"
   ]
  },
  {
   "cell_type": "markdown",
   "id": "a3e8d9fe",
   "metadata": {
    "id": "bea983a3"
   },
   "source": [
    "### Exercise 85:\n",
    "Write a Python program that removes duplicates from a list of dictionaries.\n",
    "\n",
    "```python"
   ]
  },
  {
   "cell_type": "code",
   "execution_count": 8,
   "id": "aa804813",
   "metadata": {
    "id": "bea983a3"
   },
   "outputs": [
    {
     "data": {
      "text/plain": [
       "{'a': 1, 'b': 2, 'c': 3}"
      ]
     },
     "execution_count": 8,
     "metadata": {},
     "output_type": "execute_result"
    }
   ],
   "source": [
    "# Exercise 85\n",
    "dictionnaire = {'a': 1, 'b': 2, 'c': 3, 'a': 5}\n",
    "dictionnaire\n",
    "#sorted_data = sorted(data, key=lambda x: x[0])\n",
    "#print(sorted_data)\n"
   ]
  },
  {
   "cell_type": "markdown",
   "id": "6a3f16e4",
   "metadata": {
    "id": "bea983a3"
   },
   "source": [
    "### Exercise 86:\n",
    "Write a Python function that takes a list of numbers and returns the minimum and maximum numbers in the list.\n",
    "\n",
    "```python"
   ]
  },
  {
   "cell_type": "code",
   "execution_count": 2,
   "id": "7078a2db",
   "metadata": {
    "id": "bea983a3"
   },
   "outputs": [
    {
     "data": {
      "text/plain": [
       "(120, 1)"
      ]
     },
     "execution_count": 2,
     "metadata": {},
     "output_type": "execute_result"
    }
   ],
   "source": [
    "# Exercise 86\n",
    "def minimum_maximum(liste):\n",
    "    a = max(liste)\n",
    "    b = min(liste)\n",
    "    return a,b\n",
    "minimum_maximum([120, 1, 2, 6])"
   ]
  },
  {
   "cell_type": "markdown",
   "id": "12b1d249",
   "metadata": {
    "id": "bea983a3"
   },
   "source": [
    "### Exercise 87:\n",
    "Write a Python program that creates a list of tuples from two lists.\n",
    "\n",
    "```python"
   ]
  },
  {
   "cell_type": "code",
   "execution_count": 6,
   "id": "a63e2a80",
   "metadata": {
    "id": "bea983a3"
   },
   "outputs": [
    {
     "data": {
      "text/plain": [
       "([1, 2, 6, 120], [1, 2, 3, 4])"
      ]
     },
     "execution_count": 6,
     "metadata": {},
     "output_type": "execute_result"
    }
   ],
   "source": [
    "# Exercise 87\n",
    "liste1 = [1, 2, 6, 120]\n",
    "liste2 = [1, 2, 3, 4]\n",
    "my_tuple = (liste1,liste2)\n",
    "my_tuple\n"
   ]
  },
  {
   "cell_type": "markdown",
   "id": "cdc3b3c1",
   "metadata": {
    "id": "bea983a3"
   },
   "source": [
    "### Exercise 88:\n",
    "Write a Python function that takes a list of strings and returns a list of the strings in reverse order.\n",
    "\n",
    "```python"
   ]
  },
  {
   "cell_type": "code",
   "execution_count": 9,
   "id": "ac4184dd",
   "metadata": {
    "id": "bea983a3"
   },
   "outputs": [
    {
     "data": {
      "text/plain": [
       "[4, 3, 2, 1]"
      ]
     },
     "execution_count": 9,
     "metadata": {},
     "output_type": "execute_result"
    }
   ],
   "source": [
    "# Exercise 88\n",
    "def reverse_order(liste):\n",
    "    return liste[::-1]\n",
    "\n",
    "reverse_order([1, 2, 3, 4])\n"
   ]
  },
  {
   "cell_type": "markdown",
   "id": "be163da7",
   "metadata": {
    "id": "bea983a3"
   },
   "source": [
    "### Exercise 89:\n",
    "Write a Python function that takes a list of integers and returns the sum of all odd numbers.\n",
    "\n",
    "```python"
   ]
  },
  {
   "cell_type": "code",
   "execution_count": 11,
   "id": "19162097",
   "metadata": {
    "id": "bea983a3"
   },
   "outputs": [
    {
     "data": {
      "text/plain": [
       "4"
      ]
     },
     "execution_count": 11,
     "metadata": {},
     "output_type": "execute_result"
    }
   ],
   "source": [
    "# Exercise 89\n",
    "def sumodd(liste):\n",
    "    return sum(x for x in liste if x%2==1)\n",
    "sumodd([1, 2, 3, 4])\n"
   ]
  },
  {
   "cell_type": "markdown",
   "id": "a45bcc48",
   "metadata": {
    "id": "bea983a3"
   },
   "source": [
    "### Exercise 90:\n",
    "Write a Python program that checks if a string is a palindrome.\n",
    "\n",
    "```python"
   ]
  },
  {
   "cell_type": "code",
   "execution_count": 16,
   "id": "d20c4c11",
   "metadata": {
    "id": "bea983a3"
   },
   "outputs": [
    {
     "name": "stdout",
     "output_type": "stream",
     "text": [
      "Ce n'est pas un palindrome\n"
     ]
    }
   ],
   "source": [
    "# Exercise 90\n",
    "string = \"Khadija\"\n",
    "palindrome = string[::-1]\n",
    "if string == palindrome:\n",
    "    print(\"C'est un palindrome\")\n",
    "else:\n",
    "    print(\"Ce n'est pas un palindrome\")\n",
    "\n",
    "\n"
   ]
  },
  {
   "cell_type": "markdown",
   "id": "603d4460",
   "metadata": {
    "id": "bea983a3"
   },
   "source": [
    "### Exercise 91:\n",
    "Write a Python program that finds the median of a list of numbers.\n",
    "\n",
    "```python"
   ]
  },
  {
   "cell_type": "code",
   "execution_count": 21,
   "id": "79bc2081",
   "metadata": {
    "id": "bea983a3"
   },
   "outputs": [
    {
     "name": "stdout",
     "output_type": "stream",
     "text": [
      " La médiane de la liste1 est 4.0 et celle de la liste2 est 2.5\n"
     ]
    }
   ],
   "source": [
    "# Exercise 91\n",
    "def median(liste):\n",
    "    sorted_liste = sorted(liste)\n",
    "    n = len(sorted_liste)\n",
    "    middle = n // 2 \n",
    "    \n",
    "    if n % 2 == 0:\n",
    "        return (sorted_liste[middle - 1] + sorted_liste[middle]) / 2\n",
    "    else:\n",
    "        return sorted_liste[middle]\n",
    "\n",
    "liste1 = [1, 2, 6, 120] \n",
    "liste2 = [1, 2, 3, 4]\n",
    "print(f\" La médiane de la liste1 est {median(liste1)} et celle de la liste2 est {median(liste2)}\")\n",
    "\n"
   ]
  },
  {
   "cell_type": "markdown",
   "id": "b5591fd2",
   "metadata": {
    "id": "bea983a3"
   },
   "source": [
    "### Exercise 92:\n",
    "Write a Python function that takes a list of dictionaries and returns a dictionary with the total value for each key.\n",
    "\n",
    "```python"
   ]
  },
  {
   "cell_type": "code",
   "execution_count": 24,
   "id": "5aac76d3",
   "metadata": {
    "id": "bea983a3"
   },
   "outputs": [
    {
     "name": "stdout",
     "output_type": "stream",
     "text": [
      "{'apple': 13, 'banana': 7, 'cherry': 9}\n"
     ]
    }
   ],
   "source": [
    "# Exercise 92\n",
    "def sumKeys(dicts_list):\n",
    "    result = {}\n",
    "    for d in dicts_list:\n",
    "        for key, value in d.items():\n",
    "            result[key] = result.get(key, 0) + value\n",
    "    return result\n",
    "\n",
    "dicts_list = [\n",
    "    {\"apple\": 10, \"banana\": 5},\n",
    "    {\"apple\": 3, \"cherry\": 8},\n",
    "    {\"banana\": 2, \"cherry\": 1}\n",
    "]\n",
    "\n",
    "print(sumKeys(dicts_list))\n",
    "    \n"
   ]
  },
  {
   "cell_type": "markdown",
   "id": "346d3cf4",
   "metadata": {
    "id": "bea983a3"
   },
   "source": [
    "### Exercise 93:\n",
    "Write a Python program that calculates the mode of a list of numbers.\n",
    "\n",
    "```python"
   ]
  },
  {
   "cell_type": "code",
   "execution_count": 28,
   "id": "ebf25493",
   "metadata": {
    "id": "bea983a3"
   },
   "outputs": [
    {
     "name": "stdout",
     "output_type": "stream",
     "text": [
      "Le mode est : 3\n"
     ]
    }
   ],
   "source": [
    "# Exercise 93\n",
    "\n",
    "def mode(numbers):\n",
    "    freq = {}\n",
    "    for n in numbers:\n",
    "        freq[n] = freq.get(n, 0) + 1 \n",
    "    \n",
    "    max_freq = max(freq.values())\n",
    "    modes = [num for num, count in freq.items() if count == max_freq]  # Tous les éléments avec cette fréquence\n",
    "    \n",
    "    if len(modes) == 1:\n",
    "        return modes[0]  # Mode unique\n",
    "    else:\n",
    "        return modes     # Plusieurs modes possibles\n",
    "\n",
    "\n",
    "# Exemple d’utilisation\n",
    "liste = [1, 2, 2, 3, 3, 4, 5, 3]\n",
    "print(\"Le mode est :\", mode(liste))\n"
   ]
  },
  {
   "cell_type": "markdown",
   "id": "12c5ed9f",
   "metadata": {
    "id": "bea983a3"
   },
   "source": [
    "### Exercise 94:\n",
    "Write a Python function that takes a list of numbers and returns the sum of the squares of all the numbers.\n",
    "\n",
    "```python"
   ]
  },
  {
   "cell_type": "code",
   "execution_count": 30,
   "id": "58c8050f",
   "metadata": {
    "id": "bea983a3"
   },
   "outputs": [
    {
     "data": {
      "text/plain": [
       "77"
      ]
     },
     "execution_count": 30,
     "metadata": {},
     "output_type": "execute_result"
    }
   ],
   "source": [
    "# Exercise 94\n",
    "def sum_squares(liste):\n",
    "    return sum(x**2 for x in liste)\n",
    "sum_squares([1, 2, 2, 3, 3, 4, 5, 3])"
   ]
  },
  {
   "cell_type": "markdown",
   "id": "80516c40",
   "metadata": {
    "id": "bea983a3"
   },
   "source": [
    "### Exercise 95:\n",
    "Write a Python program that creates a list of tuples, where each tuple contains a number and its cube for numbers from 1 to 5.\n",
    "\n",
    "```python"
   ]
  },
  {
   "cell_type": "code",
   "execution_count": 34,
   "id": "1800f0d0",
   "metadata": {
    "id": "bea983a3"
   },
   "outputs": [
    {
     "data": {
      "text/plain": [
       "((1, 1), (2, 8), (3, 27), (4, 64), (5, 125))"
      ]
     },
     "execution_count": 34,
     "metadata": {},
     "output_type": "execute_result"
    }
   ],
   "source": [
    "# Exercise 95\n",
    "list_tuple = [(x,x**3) for x in range (1,6)]\n",
    "tuple(list_tuple)"
   ]
  },
  {
   "cell_type": "markdown",
   "id": "fef1f12e",
   "metadata": {
    "id": "bea983a3"
   },
   "source": [
    "### Exercise 96:\n",
    "Write a Python function that returns a list of all prime numbers up to `n`.\n",
    "\n",
    "```python"
   ]
  },
  {
   "cell_type": "code",
   "execution_count": 43,
   "id": "f228bb56",
   "metadata": {
    "id": "bea983a3"
   },
   "outputs": [
    {
     "data": {
      "text/plain": [
       "[2, 3, 5, 7]"
      ]
     },
     "execution_count": 43,
     "metadata": {},
     "output_type": "execute_result"
    }
   ],
   "source": [
    "# Exercise 96\n",
    "from math import sqrt\n",
    "def prime_numbers(n):\n",
    "    return [x for x in range(2, n + 1) if all(x % i != 0 for i in range(2, int(sqrt(x)) + 1))]\n",
    "\n",
    "prime_numbers(10)"
   ]
  },
  {
   "cell_type": "markdown",
   "id": "9acf2a74",
   "metadata": {
    "id": "bea983a3"
   },
   "source": [
    "### Exercise 97:\n",
    "Write a Python program that finds the common keys between two dictionaries.\n",
    "\n",
    "```python"
   ]
  },
  {
   "cell_type": "code",
   "execution_count": 47,
   "id": "1ced874a",
   "metadata": {
    "id": "bea983a3"
   },
   "outputs": [
    {
     "data": {
      "text/plain": [
       "['age', 'city']"
      ]
     },
     "execution_count": 47,
     "metadata": {},
     "output_type": "execute_result"
    }
   ],
   "source": [
    "# Exercise 97\n",
    "def common_keys(dict1, dict2):\n",
    "    return list(dict1.keys() & dict2.keys())\n",
    "\n",
    "# Example\n",
    "a = {'name': 'Alice', 'age': 25, 'city': 'Paris'}\n",
    "b = {'age': 30, 'city': 'London', 'country': 'UK'}\n",
    "common_keys(a,b)"
   ]
  },
  {
   "cell_type": "markdown",
   "id": "35d67ea8",
   "metadata": {
    "id": "bea983a3"
   },
   "source": [
    "### Exercise 98:\n",
    "Write a Python function that takes a list of strings and returns a list of the strings that contain more than 5 characters.\n",
    "\n",
    "```python"
   ]
  },
  {
   "cell_type": "code",
   "execution_count": 52,
   "id": "ff2e7990",
   "metadata": {
    "id": "bea983a3"
   },
   "outputs": [
    {
     "data": {
      "text/plain": [
       "['apple', 'banana', 'cherry']"
      ]
     },
     "execution_count": 52,
     "metadata": {},
     "output_type": "execute_result"
    }
   ],
   "source": [
    "# Exercise 98\n",
    "def character(liste):\n",
    "    return [x for x in liste if len(x)>=5]\n",
    "\n",
    "fruits = [\"apple\", \"banana\",\"cherry\", \"kui\"]\n",
    "character(fruits)"
   ]
  },
  {
   "cell_type": "markdown",
   "id": "47e4aaf8",
   "metadata": {
    "id": "bea983a3"
   },
   "source": [
    "### Exercise 99:\n",
    "Write a Python program that converts a list of strings into a list of tuples, where each tuple contains the string and its length.\n",
    "\n",
    "```python"
   ]
  },
  {
   "cell_type": "code",
   "execution_count": 53,
   "id": "e39625c6",
   "metadata": {
    "id": "bea983a3"
   },
   "outputs": [
    {
     "data": {
      "text/plain": [
       "(('apple', 5), ('banana', 6), ('cherry', 6), ('kui', 3))"
      ]
     },
     "execution_count": 53,
     "metadata": {},
     "output_type": "execute_result"
    }
   ],
   "source": [
    "# Exercise 99\n",
    "fruits = [\"apple\", \"banana\",\"cherry\", \"kui\"]\n",
    "list_tuple = [(x,len(x)) for x in fruits]\n",
    "tuple(list_tuple)\n",
    "\n"
   ]
  },
  {
   "cell_type": "markdown",
   "id": "47f88845",
   "metadata": {
    "id": "bea983a3"
   },
   "source": [
    "### Exercise 100:\n",
    "Write a Python function that takes a list of dictionaries and returns a new dictionary by summing the values of each key across all dictionaries.\n",
    "\n",
    "```python"
   ]
  },
  {
   "cell_type": "code",
   "execution_count": 54,
   "id": "22a6ed71",
   "metadata": {
    "id": "bea983a3"
   },
   "outputs": [
    {
     "name": "stdout",
     "output_type": "stream",
     "text": [
      "{'a': 8, 'b': 7, 'c': 8}\n"
     ]
    }
   ],
   "source": [
    "# Exercise 100\n",
    "def sum_dicts(dict_list):\n",
    "    result = {}\n",
    "    for d in dict_list:\n",
    "        for key, value in d.items():\n",
    "            result[key] = result.get(key, 0) + value\n",
    "    return result\n",
    "\n",
    "\n",
    "data = [{'a': 5, 'b': 3},{'a': 2, 'b': 4, 'c': 1},{'a': 1, 'c': 7}]\n",
    "\n",
    "print(sum_dicts(data))\n",
    "\n",
    "\n"
   ]
  }
 ],
 "metadata": {
  "colab": {
   "provenance": []
  },
  "kernelspec": {
   "display_name": "Python 3 (ipykernel)",
   "language": "python",
   "name": "python3"
  },
  "language_info": {
   "codemirror_mode": {
    "name": "ipython",
    "version": 3
   },
   "file_extension": ".py",
   "mimetype": "text/x-python",
   "name": "python",
   "nbconvert_exporter": "python",
   "pygments_lexer": "ipython3",
   "version": "3.9.13"
  }
 },
 "nbformat": 4,
 "nbformat_minor": 5
}
