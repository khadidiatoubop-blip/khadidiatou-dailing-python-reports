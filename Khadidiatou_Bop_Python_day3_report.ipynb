{
 "cells": [
  {
   "cell_type": "markdown",
   "id": "426486dd",
   "metadata": {
    "id": "426486dd"
   },
   "source": [
    "\n",
    "\n",
    "# Practical_1: Variables and Assignments"
   ]
  },
  {
   "cell_type": "code",
   "execution_count": null,
   "id": "90514722",
   "metadata": {},
   "outputs": [],
   "source": [
    "#Exercise 1"
   ]
  },
  {
   "cell_type": "markdown",
   "id": "b03a9334",
   "metadata": {
    "id": "9fb19f0d"
   },
   "source": [
    "----\n",
    "\n",
    "### Exercise 1:\n",
    "Declare a variable `x` and assign it the value `10`.\n"
   ]
  },
  {
   "cell_type": "code",
   "execution_count": null,
   "id": "24f653f2",
   "metadata": {
    "id": "9fb19f0d"
   },
   "outputs": [],
   "source": [
    "\n",
    "# Exercise 1\n",
    "\n",
    "X = 10"
   ]
  },
  {
   "cell_type": "markdown",
   "id": "60ccca0e",
   "metadata": {
    "id": "9fb19f0d"
   },
   "source": [
    "---\n",
    "\n",
    "### Exercise 2:\n",
    "Assign the value `True` to a variable called `is_valid`."
   ]
  },
  {
   "cell_type": "code",
   "execution_count": null,
   "id": "33ba52b1",
   "metadata": {
    "id": "9fb19f0d"
   },
   "outputs": [],
   "source": [
    "\n",
    "# Exercise 2\n",
    "is_valid = True"
   ]
  },
  {
   "cell_type": "markdown",
   "id": "ec849d0c",
   "metadata": {
    "id": "9fb19f0d"
   },
   "source": [
    "\n",
    "\n",
    "### Exercise 3:\n",
    "Create a string variable `name` with the value \"Python Programming\"."
   ]
  },
  {
   "cell_type": "code",
   "execution_count": null,
   "id": "f314a367",
   "metadata": {
    "id": "9fb19f0d"
   },
   "outputs": [],
   "source": [
    "\n",
    "# Exercise 3\n",
    "```\n",
    "name = \"Python Programming\""
   ]
  },
  {
   "cell_type": "markdown",
   "id": "17742b32",
   "metadata": {
    "id": "9fb19f0d"
   },
   "source": [
    "---\n",
    "\n",
    "### Exercise 4:\n",
    "Assign the result of `5 + 3` to a variable `sum_result`."
   ]
  },
  {
   "cell_type": "code",
   "execution_count": null,
   "id": "4c84d486",
   "metadata": {
    "id": "9fb19f0d"
   },
   "outputs": [],
   "source": [
    "\n",
    "# Exercise 4\n",
    "sum_result = 5 + 3"
   ]
  },
  {
   "cell_type": "markdown",
   "id": "968a8c9c",
   "metadata": {
    "id": "9fb19f0d"
   },
   "source": [
    "---\n",
    "\n",
    "### Exercise 5:\n",
    "Assign multiple variables in one line: `a = 5`, `b = 10`, `c = 15`."
   ]
  },
  {
   "cell_type": "code",
   "execution_count": null,
   "id": "e0b0a304",
   "metadata": {
    "id": "9fb19f0d"
   },
   "outputs": [],
   "source": [
    "\n",
    "# Exercise 5\n",
    "\n",
    "a, b, c = 5, 10, 15"
   ]
  },
  {
   "cell_type": "markdown",
   "id": "70262f32",
   "metadata": {
    "id": "9fb19f0d"
   },
   "source": [
    "---\n",
    "\n",
    "### Exercise 6:\n",
    "Assign the value of one variable `x` to another variable `y`."
   ]
  },
  {
   "cell_type": "code",
   "execution_count": 6,
   "id": "c5e40d5b",
   "metadata": {
    "id": "9fb19f0d"
   },
   "outputs": [
    {
     "name": "stdout",
     "output_type": "stream",
     "text": [
      "3 3\n"
     ]
    }
   ],
   "source": [
    "\n",
    "# Exercise 6\n",
    "x, y =  3, 4\n",
    "y = x\n",
    "print(x,y)\n"
   ]
  },
  {
   "cell_type": "markdown",
   "id": "3776823d",
   "metadata": {
    "id": "9fb19f0d"
   },
   "source": [
    "### Exercise 7:\n",
    "Assign a floating-point number `9.8` to a variable `gravity`."
   ]
  },
  {
   "cell_type": "code",
   "execution_count": null,
   "id": "eab2bd08",
   "metadata": {
    "id": "9fb19f0d"
   },
   "outputs": [],
   "source": [
    "\n",
    "# Exercise 7\n",
    "gravity = 9.8"
   ]
  },
  {
   "cell_type": "markdown",
   "id": "1af71d37",
   "metadata": {
    "id": "9fb19f0d"
   },
   "source": [
    "### Exercise 8:\n",
    "Create a variable `country` and assign it the string value of your favorite country."
   ]
  },
  {
   "cell_type": "code",
   "execution_count": null,
   "id": "6122b429",
   "metadata": {
    "id": "9fb19f0d"
   },
   "outputs": [],
   "source": [
    "\n",
    "#Exercise 8\n",
    "country = 'Senegal'\n"
   ]
  },
  {
   "cell_type": "markdown",
   "id": "c24895ec",
   "metadata": {
    "id": "9fb19f0d"
   },
   "source": [
    "\n",
    "\n",
    "### Exercise 9:\n",
    "Change the value of variable `age` from `25` to `26` in two separate steps."
   ]
  },
  {
   "cell_type": "code",
   "execution_count": 7,
   "id": "895e9e3d",
   "metadata": {
    "id": "9fb19f0d"
   },
   "outputs": [
    {
     "data": {
      "text/plain": [
       "26"
      ]
     },
     "execution_count": 7,
     "metadata": {},
     "output_type": "execute_result"
    }
   ],
   "source": [
    "# Exercise 9\n",
    "age = 25\n",
    "age_2 = 26\n",
    "age = age_2\n",
    "age"
   ]
  },
  {
   "cell_type": "markdown",
   "id": "f2073445",
   "metadata": {
    "id": "9fb19f0d"
   },
   "source": [
    "---\n",
    "\n",
    "### Exercise 10:\n",
    "Use one variable to store the result of subtracting two numbers `20 - 7`."
   ]
  },
  {
   "cell_type": "code",
   "execution_count": 8,
   "id": "ea720ab3",
   "metadata": {
    "id": "9fb19f0d"
   },
   "outputs": [
    {
     "data": {
      "text/plain": [
       "13"
      ]
     },
     "execution_count": 8,
     "metadata": {},
     "output_type": "execute_result"
    }
   ],
   "source": [
    "# Exercise 10\n",
    "a = 20\n",
    "b = 7\n",
    "result = a - b\n",
    "result\n"
   ]
  },
  {
   "cell_type": "markdown",
   "id": "5e3d1720",
   "metadata": {
    "id": "9fb19f0d"
   },
   "source": [
    "---\n",
    "\n",
    "### Exercise 11:\n",
    "Assign an integer value and a floating-point value to two different variables."
   ]
  },
  {
   "cell_type": "code",
   "execution_count": null,
   "id": "1c759ea2",
   "metadata": {
    "id": "9fb19f0d"
   },
   "outputs": [],
   "source": [
    "\n",
    "# Exercise 11\n",
    "a = 10\n",
    "b = 3.5\n"
   ]
  },
  {
   "cell_type": "markdown",
   "id": "6817f803",
   "metadata": {
    "id": "9fb19f0d"
   },
   "source": [
    "---\n",
    "\n",
    "### Exercise 12:\n",
    "Assign a boolean value `False` to a variable `is_completed`."
   ]
  },
  {
   "cell_type": "code",
   "execution_count": 9,
   "id": "8e2c1fb4",
   "metadata": {
    "id": "9fb19f0d"
   },
   "outputs": [
    {
     "data": {
      "text/plain": [
       "False"
      ]
     },
     "execution_count": 9,
     "metadata": {},
     "output_type": "execute_result"
    }
   ],
   "source": [
    "\n",
    "# Exercise 12\n",
    "is_completed = False\n",
    "is_completed\n"
   ]
  },
  {
   "cell_type": "markdown",
   "id": "81c9d6a2",
   "metadata": {
    "id": "9fb19f0d"
   },
   "source": []
  },
  {
   "cell_type": "markdown",
   "id": "8c0ad472",
   "metadata": {
    "id": "9fb19f0d"
   },
   "source": [
    "### Exercise 13:\n",
    "Swap the values of two variables `x` and `y`."
   ]
  },
  {
   "cell_type": "code",
   "execution_count": 11,
   "id": "cf9644a9",
   "metadata": {
    "id": "9fb19f0d"
   },
   "outputs": [
    {
     "name": "stdout",
     "output_type": "stream",
     "text": [
      "3 2\n"
     ]
    }
   ],
   "source": [
    "# Exercise 13\n",
    "x, y = 2, 3\n",
    "tmp = x\n",
    "x = y\n",
    "y = tmp\n",
    "print(x,y)"
   ]
  },
  {
   "cell_type": "markdown",
   "id": "8115df24",
   "metadata": {
    "id": "9fb19f0d"
   },
   "source": []
  },
  {
   "cell_type": "markdown",
   "id": "88cba1dc",
   "metadata": {
    "id": "9fb19f0d"
   },
   "source": [
    "### Exercise 14:\n",
    "Assign a complex number `3 + 4j` to a variable `complex_num`."
   ]
  },
  {
   "cell_type": "code",
   "execution_count": 14,
   "id": "54d8f91b",
   "metadata": {
    "id": "9fb19f0d"
   },
   "outputs": [
    {
     "data": {
      "text/plain": [
       "(3+4j)"
      ]
     },
     "execution_count": 14,
     "metadata": {},
     "output_type": "execute_result"
    }
   ],
   "source": [
    "\n",
    "# Exercise 14\n",
    "complex_num = 3+4j\n",
    "complex_num\n"
   ]
  },
  {
   "cell_type": "code",
   "execution_count": null,
   "id": "a9c572f3",
   "metadata": {
    "id": "9fb19f0d"
   },
   "outputs": [],
   "source": [
    "---\n",
    "\n",
    "### Exercise 15:\n",
    "Reassign a variable from an integer to a string."
   ]
  },
  {
   "cell_type": "code",
   "execution_count": 16,
   "id": "da4b9316",
   "metadata": {
    "id": "9fb19f0d"
   },
   "outputs": [
    {
     "data": {
      "text/plain": [
       "'3'"
      ]
     },
     "execution_count": 16,
     "metadata": {},
     "output_type": "execute_result"
    }
   ],
   "source": [
    "\n",
    "# Exercise 15\n",
    "a = 3\n",
    "a = str(a)\n",
    "a"
   ]
  },
  {
   "cell_type": "code",
   "execution_count": null,
   "id": "df772a3e",
   "metadata": {
    "id": "9fb19f0d"
   },
   "outputs": [],
   "source": [
    "---\n",
    "\n",
    "### Exercise 16:\n",
    "Create two variables `first_name` and `last_name`, and assign them your first and last names.\n",
    "\n",
    "```python"
   ]
  },
  {
   "cell_type": "code",
   "execution_count": 17,
   "id": "3b4628e4",
   "metadata": {
    "id": "9fb19f0d"
   },
   "outputs": [
    {
     "data": {
      "text/plain": [
       "'khadija'"
      ]
     },
     "execution_count": 17,
     "metadata": {},
     "output_type": "execute_result"
    }
   ],
   "source": [
    "# Exercise 16\n",
    "first_name = 'khadidiatou'\n",
    "last_name = 'bop'\n",
    "first_name"
   ]
  },
  {
   "cell_type": "code",
   "execution_count": null,
   "id": "653894d0",
   "metadata": {
    "id": "9fb19f0d"
   },
   "outputs": [],
   "source": [
    "---\n",
    "\n",
    "### Exercise 17:\n",
    "Create a variable `temperature` and assign it the value of `35.5`.\n",
    "\n",
    "```python"
   ]
  },
  {
   "cell_type": "code",
   "execution_count": null,
   "id": "5f903ee5",
   "metadata": {
    "id": "9fb19f0d"
   },
   "outputs": [],
   "source": [
    "# Exercise 17\n",
    "temperature = 35.5"
   ]
  },
  {
   "cell_type": "code",
   "execution_count": null,
   "id": "6ac689eb",
   "metadata": {
    "id": "9fb19f0d"
   },
   "outputs": [],
   "source": [
    "### Exercise 18:\n",
    "Assign the result of the multiplication of two numbers `8 * 6` to a variable `product`.\n",
    "\n",
    "```python"
   ]
  },
  {
   "cell_type": "code",
   "execution_count": null,
   "id": "8fd76530",
   "metadata": {
    "id": "9fb19f0d"
   },
   "outputs": [],
   "source": [
    "# Exercise 18\n",
    "product = 8 * 6"
   ]
  },
  {
   "cell_type": "code",
   "execution_count": null,
   "id": "18a832a4",
   "metadata": {
    "id": "9fb19f0d"
   },
   "outputs": [],
   "source": [
    "### Exercise 19:\n",
    "Assign a sentence of your choice to a variable `sentence`.\n",
    "\n",
    "```python"
   ]
  },
  {
   "cell_type": "code",
   "execution_count": null,
   "id": "92187367",
   "metadata": {
    "id": "9fb19f0d"
   },
   "outputs": [],
   "source": [
    "# Exercise 19\n",
    "sentence = 'python'"
   ]
  },
  {
   "cell_type": "code",
   "execution_count": null,
   "id": "0c594de0",
   "metadata": {
    "id": "9fb19f0d"
   },
   "outputs": [],
   "source": [
    "### Exercise 20:\n",
    "Use an assignment to convert a string `'50'` into an integer variable `int_value`.\n",
    "\n",
    "```python"
   ]
  },
  {
   "cell_type": "code",
   "execution_count": 18,
   "id": "0bd9c7a2",
   "metadata": {
    "id": "9fb19f0d"
   },
   "outputs": [
    {
     "data": {
      "text/plain": [
       "50"
      ]
     },
     "execution_count": 18,
     "metadata": {},
     "output_type": "execute_result"
    }
   ],
   "source": [
    "# Exercise 20\n",
    "a = int('50')\n",
    "a"
   ]
  },
  {
   "cell_type": "code",
   "execution_count": null,
   "id": "2bf9a47b",
   "metadata": {
    "id": "9fb19f0d"
   },
   "outputs": [],
   "source": [
    "### Exercise 21:\n",
    "Assign the result of dividing `144` by `12` to a variable `quotient`.\n",
    "\n",
    "```python"
   ]
  },
  {
   "cell_type": "code",
   "execution_count": 19,
   "id": "4bf28cc7",
   "metadata": {
    "id": "9fb19f0d"
   },
   "outputs": [
    {
     "data": {
      "text/plain": [
       "12.0"
      ]
     },
     "execution_count": 19,
     "metadata": {},
     "output_type": "execute_result"
    }
   ],
   "source": [
    "# Exercise 21\n",
    "quotient = 144 / 12\n",
    "quotient"
   ]
  },
  {
   "cell_type": "code",
   "execution_count": null,
   "id": "2c8a6510",
   "metadata": {
    "id": "9fb19f0d"
   },
   "outputs": [],
   "source": [
    "### Exercise 22:\n",
    "Assign the remainder of `47 divided by 5` to a variable `remainder`.\n",
    "\n",
    "```python"
   ]
  },
  {
   "cell_type": "code",
   "execution_count": 20,
   "id": "d0598c3c",
   "metadata": {
    "id": "9fb19f0d"
   },
   "outputs": [
    {
     "data": {
      "text/plain": [
       "9.4"
      ]
     },
     "execution_count": 20,
     "metadata": {},
     "output_type": "execute_result"
    }
   ],
   "source": [
    "# Exercise 22\n",
    "remainder = 47 / 5\n",
    "remainder"
   ]
  },
  {
   "cell_type": "code",
   "execution_count": null,
   "id": "4bd9e2df",
   "metadata": {
    "id": "9fb19f0d"
   },
   "outputs": [],
   "source": [
    "### Exercise 23:\n",
    "Create a variable `is_student` and assign it the value `True`.\n",
    "\n",
    "```python"
   ]
  },
  {
   "cell_type": "code",
   "execution_count": 21,
   "id": "6024672b",
   "metadata": {
    "id": "9fb19f0d"
   },
   "outputs": [
    {
     "data": {
      "text/plain": [
       "True"
      ]
     },
     "execution_count": 21,
     "metadata": {},
     "output_type": "execute_result"
    }
   ],
   "source": [
    "# Exercise 23\n",
    "is_student = True\n",
    "is_student"
   ]
  },
  {
   "cell_type": "code",
   "execution_count": null,
   "id": "f97aff17",
   "metadata": {
    "id": "9fb19f0d"
   },
   "outputs": [],
   "source": [
    "### Exercise 24:\n",
    "Use a variable to store the result of a modulo operation: `45 % 4`.\n",
    "\n",
    "```python"
   ]
  },
  {
   "cell_type": "code",
   "execution_count": 22,
   "id": "012897ea",
   "metadata": {
    "id": "9fb19f0d"
   },
   "outputs": [
    {
     "data": {
      "text/plain": [
       "1"
      ]
     },
     "execution_count": 22,
     "metadata": {},
     "output_type": "execute_result"
    }
   ],
   "source": [
    "# Exercise 24\n",
    "result = 45 % 4\n",
    "result"
   ]
  },
  {
   "cell_type": "code",
   "execution_count": null,
   "id": "84de5179",
   "metadata": {
    "id": "9fb19f0d"
   },
   "outputs": [],
   "source": [
    "### Exercise 25:\n",
    "Create a variable `pi` and assign it the value `3.14159`.\n",
    "\n",
    "```python"
   ]
  },
  {
   "cell_type": "code",
   "execution_count": 23,
   "id": "87ba95fe",
   "metadata": {
    "id": "9fb19f0d"
   },
   "outputs": [
    {
     "data": {
      "text/plain": [
       "3.14159"
      ]
     },
     "execution_count": 23,
     "metadata": {},
     "output_type": "execute_result"
    }
   ],
   "source": [
    "# Exercise 25\n",
    "pi = 3.14159\n",
    "pi"
   ]
  },
  {
   "cell_type": "code",
   "execution_count": null,
   "id": "da87ac3c",
   "metadata": {
    "id": "9fb19f0d"
   },
   "outputs": [],
   "source": [
    "### Exercise 26:\n",
    "Create two variables `length` and `width`, assign them values, and calculate the area of a rectangle.\n",
    "\n",
    "```python"
   ]
  },
  {
   "cell_type": "code",
   "execution_count": 24,
   "id": "0e89355b",
   "metadata": {
    "id": "9fb19f0d"
   },
   "outputs": [
    {
     "data": {
      "text/plain": [
       "15"
      ]
     },
     "execution_count": 24,
     "metadata": {},
     "output_type": "execute_result"
    }
   ],
   "source": [
    "# Exercise 26\n",
    "length = 5\n",
    "width = 3\n",
    "area = length * width\n",
    "area"
   ]
  },
  {
   "cell_type": "code",
   "execution_count": null,
   "id": "d31d3641",
   "metadata": {
    "id": "9fb19f0d"
   },
   "outputs": [],
   "source": [
    "### Exercise 27:\n",
    "Assign a negative number to a variable `negative_value`.\n",
    "\n",
    "```python"
   ]
  },
  {
   "cell_type": "code",
   "execution_count": 25,
   "id": "32386266",
   "metadata": {
    "id": "9fb19f0d"
   },
   "outputs": [
    {
     "data": {
      "text/plain": [
       "-1"
      ]
     },
     "execution_count": 25,
     "metadata": {},
     "output_type": "execute_result"
    }
   ],
   "source": [
    "# Exercise 27\n",
    "negative_number = -1\n",
    "negative_number"
   ]
  },
  {
   "cell_type": "code",
   "execution_count": null,
   "id": "acf51edf",
   "metadata": {
    "id": "9fb19f0d"
   },
   "outputs": [],
   "source": [
    "### Exercise 28:\n",
    "Assign a string containing a special character (e.g., \"Hello, World!\") to a variable `greeting`.\n",
    "\n",
    "```python"
   ]
  },
  {
   "cell_type": "code",
   "execution_count": 28,
   "id": "6eeeb4d8",
   "metadata": {
    "id": "9fb19f0d"
   },
   "outputs": [
    {
     "name": "stdout",
     "output_type": "stream",
     "text": [
      " \"Hello, World\" \n"
     ]
    }
   ],
   "source": [
    "# Exercise 28\n",
    "gretting = ' \"Hello, World\" '\n",
    "print(gretting)"
   ]
  },
  {
   "cell_type": "code",
   "execution_count": null,
   "id": "7d45bd1c",
   "metadata": {
    "id": "9fb19f0d"
   },
   "outputs": [],
   "source": [
    "### Exercise 29:\n",
    "Create a variable `population` and assign it a large integer value (in billions).\n",
    "\n",
    "```python"
   ]
  },
  {
   "cell_type": "code",
   "execution_count": 29,
   "id": "0f0c1f17",
   "metadata": {
    "id": "9fb19f0d"
   },
   "outputs": [
    {
     "data": {
      "text/plain": [
       "122330000000000000"
      ]
     },
     "execution_count": 29,
     "metadata": {},
     "output_type": "execute_result"
    }
   ],
   "source": [
    "# Exercise 29\n",
    "population = 122330000000000000\n",
    "population"
   ]
  },
  {
   "cell_type": "code",
   "execution_count": null,
   "id": "293b13ab",
   "metadata": {
    "id": "9fb19f0d"
   },
   "outputs": [],
   "source": [
    "### Exercise 30:\n",
    "Use a variable to store the result of raising `2` to the power of `8`.\n",
    "\n",
    "```python"
   ]
  },
  {
   "cell_type": "code",
   "execution_count": 30,
   "id": "68972c79",
   "metadata": {
    "id": "9fb19f0d"
   },
   "outputs": [
    {
     "data": {
      "text/plain": [
       "256"
      ]
     },
     "execution_count": 30,
     "metadata": {},
     "output_type": "execute_result"
    }
   ],
   "source": [
    "# Exercise 30\n",
    "result = 2 ** 8\n",
    "result"
   ]
  },
  {
   "cell_type": "code",
   "execution_count": null,
   "id": "d1372e84",
   "metadata": {
    "id": "9fb19f0d"
   },
   "outputs": [],
   "source": [
    "### Exercise 31:\n",
    "Assign a list of your favorite fruits to a variable `fruits`.\n",
    "\n",
    "```python"
   ]
  },
  {
   "cell_type": "code",
   "execution_count": 32,
   "id": "3d3f6709",
   "metadata": {
    "id": "9fb19f0d"
   },
   "outputs": [
    {
     "data": {
      "text/plain": [
       "['mangue', 'orange', 'pomme', 'poivre']"
      ]
     },
     "execution_count": 32,
     "metadata": {},
     "output_type": "execute_result"
    }
   ],
   "source": [
    "# Exercise 31\n",
    "fruits = [\"mangue\", \"orange\",\"pomme\", \"poivre\"]\n",
    "fruits"
   ]
  },
  {
   "cell_type": "code",
   "execution_count": null,
   "id": "ce54581f",
   "metadata": {
    "id": "9fb19f0d"
   },
   "outputs": [],
   "source": [
    "### Exercise 32:\n",
    "Assign a tuple of three numbers to a variable `coordinates`.\n",
    "\n",
    "```python"
   ]
  },
  {
   "cell_type": "code",
   "execution_count": 33,
   "id": "60f0fc09",
   "metadata": {
    "id": "9fb19f0d"
   },
   "outputs": [
    {
     "data": {
      "text/plain": [
       "(1, 2, 3)"
      ]
     },
     "execution_count": 33,
     "metadata": {},
     "output_type": "execute_result"
    }
   ],
   "source": [
    "# Exercise 32\n",
    "coordinates  = (1,2,3)\n",
    "coordinates"
   ]
  },
  {
   "cell_type": "code",
   "execution_count": null,
   "id": "73f40634",
   "metadata": {
    "id": "9fb19f0d"
   },
   "outputs": [],
   "source": [
    "### Exercise 33:\n",
    "Assign a dictionary with keys `name` and `age` to a variable `person`.\n",
    "\n",
    "```python"
   ]
  },
  {
   "cell_type": "code",
   "execution_count": 34,
   "id": "27c77110",
   "metadata": {
    "id": "9fb19f0d"
   },
   "outputs": [
    {
     "data": {
      "text/plain": [
       "{'name': 'khadija', 'age': 26}"
      ]
     },
     "execution_count": 34,
     "metadata": {},
     "output_type": "execute_result"
    }
   ],
   "source": [
    "# Exercise 33\n",
    "person = {'name' : \"khadija\", 'age' : 26}\n",
    "person"
   ]
  },
  {
   "cell_type": "code",
   "execution_count": null,
   "id": "fb0251f8",
   "metadata": {
    "id": "9fb19f0d"
   },
   "outputs": [],
   "source": [
    "### Exercise 34:\n",
    "Use variables to store the sum of two floating-point numbers.\n",
    "\n",
    "```python"
   ]
  },
  {
   "cell_type": "code",
   "execution_count": 35,
   "id": "3b808e78",
   "metadata": {
    "id": "9fb19f0d"
   },
   "outputs": [
    {
     "data": {
      "text/plain": [
       "4.3"
      ]
     },
     "execution_count": 35,
     "metadata": {},
     "output_type": "execute_result"
    }
   ],
   "source": [
    "# Exercise 34\n",
    "sum = 1.5 + 2.8\n",
    "sum"
   ]
  },
  {
   "cell_type": "code",
   "execution_count": null,
   "id": "5487cb64",
   "metadata": {
    "id": "9fb19f0d"
   },
   "outputs": [],
   "source": [
    "### Exercise 35:\n",
    "Create a variable `is_sunny` and assign it the result of a comparison `10 > 5`.\n",
    "\n",
    "```python"
   ]
  },
  {
   "cell_type": "code",
   "execution_count": 36,
   "id": "51dc2d38",
   "metadata": {
    "id": "9fb19f0d"
   },
   "outputs": [
    {
     "data": {
      "text/plain": [
       "True"
      ]
     },
     "execution_count": 36,
     "metadata": {},
     "output_type": "execute_result"
    }
   ],
   "source": [
    "# Exercise 35\n",
    "is_sunny = 10 > 5\n",
    "is_sunny"
   ]
  },
  {
   "cell_type": "code",
   "execution_count": null,
   "id": "276a66db",
   "metadata": {
    "id": "9fb19f0d"
   },
   "outputs": [],
   "source": [
    "### Exercise 36:\n",
    "Assign a string and an integer to two different variables, then print both on one line.\n",
    "\n",
    "```python"
   ]
  },
  {
   "cell_type": "code",
   "execution_count": 37,
   "id": "aa12fb04",
   "metadata": {
    "id": "9fb19f0d"
   },
   "outputs": [
    {
     "name": "stdout",
     "output_type": "stream",
     "text": [
      "khadija 14\n"
     ]
    }
   ],
   "source": [
    "# Exercise 36\n",
    "c = \"khadija\"\n",
    "d = 14\n",
    "print(c,d)"
   ]
  },
  {
   "cell_type": "code",
   "execution_count": null,
   "id": "fe329087",
   "metadata": {
    "id": "9fb19f0d"
   },
   "outputs": [],
   "source": [
    "### Exercise 37:\n",
    "Reassign a variable that originally held a number to a boolean value.\n",
    "\n",
    "```python"
   ]
  },
  {
   "cell_type": "code",
   "execution_count": 40,
   "id": "bc2cfcca",
   "metadata": {
    "id": "9fb19f0d"
   },
   "outputs": [
    {
     "data": {
      "text/plain": [
       "True"
      ]
     },
     "execution_count": 40,
     "metadata": {},
     "output_type": "execute_result"
    }
   ],
   "source": [
    "# Exercise 37\n",
    "a = 5\n",
    "a = bool(a)\n",
    "a"
   ]
  },
  {
   "cell_type": "code",
   "execution_count": null,
   "id": "878fd478",
   "metadata": {
    "id": "9fb19f0d"
   },
   "outputs": [],
   "source": [
    "### Exercise 38:\n",
    "Create a variable `is_weekend` and assign it the result of `False`.\n",
    "\n",
    "```python"
   ]
  },
  {
   "cell_type": "code",
   "execution_count": 42,
   "id": "23db83d4",
   "metadata": {
    "id": "9fb19f0d"
   },
   "outputs": [
    {
     "data": {
      "text/plain": [
       "False"
      ]
     },
     "execution_count": 42,
     "metadata": {},
     "output_type": "execute_result"
    }
   ],
   "source": [
    "# Exercise 38\n",
    "is_weekend = False\n",
    "is_weekend"
   ]
  },
  {
   "cell_type": "code",
   "execution_count": null,
   "id": "36cd22c4",
   "metadata": {
    "id": "9fb19f0d"
   },
   "outputs": [],
   "source": [
    "### Exercise 39:\n",
    "Assign a multi-line string to a variable `description`.\n",
    "\n",
    "```python"
   ]
  },
  {
   "cell_type": "code",
   "execution_count": 51,
   "id": "f52231c8",
   "metadata": {
    "id": "9fb19f0d"
   },
   "outputs": [
    {
     "name": "stdout",
     "output_type": "stream",
     "text": [
      "khadija \n",
      " bop\n"
     ]
    }
   ],
   "source": [
    "# Exercise 39\n",
    "description = print(\"khadija \\n bop\")\n",
    "#description"
   ]
  },
  {
   "cell_type": "code",
   "execution_count": null,
   "id": "f344fb33",
   "metadata": {
    "id": "9fb19f0d"
   },
   "outputs": [],
   "source": [
    "### Exercise 40:\n",
    "Use variables to store the result of the absolute value of `-25`.\n",
    "\n",
    "```python"
   ]
  },
  {
   "cell_type": "code",
   "execution_count": 52,
   "id": "2579f7e6",
   "metadata": {
    "id": "9fb19f0d"
   },
   "outputs": [
    {
     "data": {
      "text/plain": [
       "25"
      ]
     },
     "execution_count": 52,
     "metadata": {},
     "output_type": "execute_result"
    }
   ],
   "source": [
    "# Exercise 40\n",
    "absolute = abs(-25)\n",
    "absolute"
   ]
  },
  {
   "cell_type": "code",
   "execution_count": null,
   "id": "10f10707",
   "metadata": {
    "id": "9fb19f0d"
   },
   "outputs": [],
   "source": [
    "### Exercise 41:\n",
    "Assign the result of a floor division `100 // 6` to a variable `floor_div_result`.\n",
    "\n",
    "```python"
   ]
  },
  {
   "cell_type": "code",
   "execution_count": 53,
   "id": "f6614660",
   "metadata": {
    "id": "9fb19f0d"
   },
   "outputs": [
    {
     "data": {
      "text/plain": [
       "16"
      ]
     },
     "execution_count": 53,
     "metadata": {},
     "output_type": "execute_result"
    }
   ],
   "source": [
    "# Exercise 41\n",
    "floor_div_result = 100 // 6\n",
    "floor_div_result"
   ]
  },
  {
   "cell_type": "code",
   "execution_count": null,
   "id": "76eddeb1",
   "metadata": {
    "id": "9fb19f0d"
   },
   "outputs": [],
   "source": [
    "### Exercise 42:\n",
    "Assign the result of adding a floating-point number to an integer to a variable `mixed_sum`.\n",
    "\n",
    "```python"
   ]
  },
  {
   "cell_type": "code",
   "execution_count": 54,
   "id": "76189b75",
   "metadata": {
    "id": "9fb19f0d"
   },
   "outputs": [
    {
     "data": {
      "text/plain": [
       "6.5"
      ]
     },
     "execution_count": 54,
     "metadata": {},
     "output_type": "execute_result"
    }
   ],
   "source": [
    "# Exercise 42\n",
    "mixed_sum = 4 + 2.5\n",
    "mixed_sum"
   ]
  },
  {
   "cell_type": "code",
   "execution_count": null,
   "id": "c261c72e",
   "metadata": {
    "id": "9fb19f0d"
   },
   "outputs": [],
   "source": [
    "### Exercise 43:\n",
    "Assign a boolean value based on the comparison of two variables `a = 10` and `b = 15`.\n",
    "\n",
    "```python"
   ]
  },
  {
   "cell_type": "code",
   "execution_count": 55,
   "id": "f5a8f1d4",
   "metadata": {
    "id": "9fb19f0d"
   },
   "outputs": [
    {
     "data": {
      "text/plain": [
       "False"
      ]
     },
     "execution_count": 55,
     "metadata": {},
     "output_type": "execute_result"
    }
   ],
   "source": [
    "# Exercise 43\n",
    "is_sup = 10 > 15\n",
    "is_sup"
   ]
  },
  {
   "cell_type": "code",
   "execution_count": null,
   "id": "1e6a2297",
   "metadata": {
    "id": "9fb19f0d"
   },
   "outputs": [],
   "source": [
    "### Exercise 44:\n",
    "Assign a long sentence to a variable and count its characters using `len()`.\n",
    "\n",
    "```python"
   ]
  },
  {
   "cell_type": "code",
   "execution_count": 56,
   "id": "638d2858",
   "metadata": {
    "id": "9fb19f0d"
   },
   "outputs": [
    {
     "data": {
      "text/plain": [
       "7"
      ]
     },
     "execution_count": 56,
     "metadata": {},
     "output_type": "execute_result"
    }
   ],
   "source": [
    "# Exercise 44\n",
    "name = \"Khadija\"\n",
    "len(name)"
   ]
  },
  {
   "cell_type": "code",
   "execution_count": null,
   "id": "074cb658",
   "metadata": {
    "id": "9fb19f0d"
   },
   "outputs": [],
   "source": [
    "### Exercise 45:\n",
    "Assign a fractional result `7 / 3` to a variable `division_result`.\n",
    "\n",
    "```python"
   ]
  },
  {
   "cell_type": "code",
   "execution_count": 72,
   "id": "e736b5f8",
   "metadata": {
    "id": "9fb19f0d"
   },
   "outputs": [
    {
     "data": {
      "text/plain": [
       "2.3333333333333335"
      ]
     },
     "execution_count": 72,
     "metadata": {},
     "output_type": "execute_result"
    }
   ],
   "source": [
    "# Exercise 45\n",
    "\n",
    "a = 7 / 3\n",
    "a\n"
   ]
  },
  {
   "cell_type": "code",
   "execution_count": null,
   "id": "bc0032c8",
   "metadata": {
    "id": "9fb19f0d"
   },
   "outputs": [],
   "source": [
    "### Exercise 46:\n",
    "Create a variable `speed` and assign it the value of 100 kilometers per hour.\n",
    "\n",
    "```python"
   ]
  },
  {
   "cell_type": "code",
   "execution_count": 67,
   "id": "e44b0b50",
   "metadata": {
    "id": "9fb19f0d"
   },
   "outputs": [
    {
     "data": {
      "text/plain": [
       "'100 kilometers per hour'"
      ]
     },
     "execution_count": 67,
     "metadata": {},
     "output_type": "execute_result"
    }
   ],
   "source": [
    "# Exercise 46\n",
    "speed = \"100 kilometers per hour\" \n",
    "speed"
   ]
  },
  {
   "cell_type": "code",
   "execution_count": null,
   "id": "b9322d68",
   "metadata": {
    "id": "9fb19f0d"
   },
   "outputs": [],
   "source": [
    "### Exercise 47:\n",
    "Assign a multi-variable equation like `y = 3x + 5` where `x = 4` to a variable `y`.\n",
    "\n",
    "```python"
   ]
  },
  {
   "cell_type": "code",
   "execution_count": null,
   "id": "fe891f36",
   "metadata": {
    "id": "9fb19f0d"
   },
   "outputs": [],
   "source": [
    "# Exercise 47"
   ]
  },
  {
   "cell_type": "code",
   "execution_count": null,
   "id": "042f30a4",
   "metadata": {
    "id": "9fb19f0d"
   },
   "outputs": [],
   "source": [
    "### Exercise 48:\n",
    "Use variables to calculate and store the average of three numbers."
   ]
  },
  {
   "cell_type": "code",
   "execution_count": 66,
   "id": "559c9b23",
   "metadata": {
    "id": "9fb19f0d"
   },
   "outputs": [
    {
     "data": {
      "text/plain": [
       "3.0"
      ]
     },
     "execution_count": 66,
     "metadata": {},
     "output_type": "execute_result"
    }
   ],
   "source": [
    "# Exercise 48\n",
    "a = 2\n",
    "b = 3\n",
    "c = 4\n",
    "average = ((a+b+c)/3)\n",
    "average"
   ]
  },
  {
   "cell_type": "code",
   "execution_count": null,
   "id": "b4007072",
   "metadata": {
    "id": "9fb19f0d"
   },
   "outputs": [],
   "source": []
  }
 ],
 "metadata": {
  "colab": {
   "provenance": []
  },
  "kernelspec": {
   "display_name": "Python 3 (ipykernel)",
   "language": "python",
   "name": "python3"
  },
  "language_info": {
   "codemirror_mode": {
    "name": "ipython",
    "version": 3
   },
   "file_extension": ".py",
   "mimetype": "text/x-python",
   "name": "python",
   "nbconvert_exporter": "python",
   "pygments_lexer": "ipython3",
   "version": "3.9.13"
  }
 },
 "nbformat": 4,
 "nbformat_minor": 5
}
