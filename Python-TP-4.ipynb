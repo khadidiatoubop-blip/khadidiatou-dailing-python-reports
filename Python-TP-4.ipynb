{
 "cells": [
  {
   "cell_type": "markdown",
   "id": "d68c1dee",
   "metadata": {
    "id": "d68c1dee"
   },
   "source": [
    "# Practical_4: Flow control"
   ]
  },
  {
   "cell_type": "markdown",
   "id": "bea983a3",
   "metadata": {
    "id": "bea983a3"
   },
   "source": [
    "\n",
    "\n",
    "---\n",
    "\n",
    "### Exercise 1:\n",
    "Write a Python program that checks if a number is positive or negative.\n",
    "\n",
    "```python\n"
   ]
  },
  {
   "cell_type": "code",
   "execution_count": 1,
   "id": "9ab6542e",
   "metadata": {},
   "outputs": [
    {
     "name": "stdout",
     "output_type": "stream",
     "text": [
      "18 est positive\n"
     ]
    }
   ],
   "source": [
    "# Exercise 1\n",
    "def SignNumber(n):\n",
    "    if n>0:\n",
    "        print(f\"{n} est positive\")\n",
    "    if n<0:\n",
    "        print(f\"{n} est negative\")\n",
    "        \n",
    "SignNumber(18)"
   ]
  },
  {
   "cell_type": "markdown",
   "id": "e3266b91",
   "metadata": {},
   "source": [
    "\n",
    "### Exercise 2:\n",
    "Write a Python function that checks if a string starts with a vowel.\n",
    "\n",
    "```python\n"
   ]
  },
  {
   "cell_type": "code",
   "execution_count": 8,
   "id": "553f1eeb",
   "metadata": {},
   "outputs": [
    {
     "data": {
      "text/plain": [
       "False"
      ]
     },
     "execution_count": 8,
     "metadata": {},
     "output_type": "execute_result"
    }
   ],
   "source": [
    "# Exercise 2\n",
    "def start_vowel(liste):\n",
    "    if liste[0] in ['a', 'e', 'i', 'o', 'u', 'y']:\n",
    "        return True\n",
    "    else:\n",
    "        return False\n",
    "         \n",
    "start_vowel(\"Khadija\")"
   ]
  },
  {
   "cell_type": "markdown",
   "id": "1bbd3bed",
   "metadata": {},
   "source": [
    "\n",
    "### Exercise 3:\n",
    "Write a Python program that takes a list of integers and prints \"Even\" for each even number and \"Odd\" for each odd number.\n",
    "\n",
    "```python\n"
   ]
  },
  {
   "cell_type": "code",
   "execution_count": 77,
   "id": "95ccad5d",
   "metadata": {},
   "outputs": [
    {
     "name": "stdout",
     "output_type": "stream",
     "text": [
      "1 est imparir\n",
      "5 est imparir\n",
      "3 est imparir\n",
      "4 est parir\n"
     ]
    }
   ],
   "source": [
    "# Exercise 3\n",
    "def parity(liste):\n",
    "    for n in liste:\n",
    "        if n % 2 == 0:\n",
    "            print(f\"{n} est parir\")\n",
    "        else:\n",
    "            print(f\"{n} est imparir\")\n",
    "\n",
    "parity([1, 5, 3, 4])\n",
    "\n",
    "\n"
   ]
  },
  {
   "cell_type": "markdown",
   "id": "d2554ebe",
   "metadata": {},
   "source": [
    "\n",
    "### Exercise 4:\n",
    "Write a Python program that checks if a given year is a leap year.\n",
    "\n",
    "```python\n"
   ]
  },
  {
   "cell_type": "code",
   "execution_count": 14,
   "id": "c1f536a0",
   "metadata": {},
   "outputs": [
    {
     "name": "stdout",
     "output_type": "stream",
     "text": [
      "Enter a value: 234\n",
      "234 is not a leap year\n"
     ]
    }
   ],
   "source": [
    "# Exercise 4\n",
    "n = int(input(\"Enter a value: \"))\n",
    "if n == 365:\n",
    "    \n",
    "    print(f\"{n} is a leap year\")\n",
    "else:\n",
    "    print(f\"{n} is not a leap year\")\n"
   ]
  },
  {
   "cell_type": "markdown",
   "id": "94a80a64",
   "metadata": {},
   "source": [
    "\n",
    "### Exercise 5:\n",
    "Write a Python function that checks if a number is divisible by both 3 and 5.\n",
    "\n",
    "```python\n"
   ]
  },
  {
   "cell_type": "code",
   "execution_count": 17,
   "id": "da1bfdb0",
   "metadata": {},
   "outputs": [
    {
     "data": {
      "text/plain": [
       "'6 is not divisible by both 3 and 5'"
      ]
     },
     "execution_count": 17,
     "metadata": {},
     "output_type": "execute_result"
    }
   ],
   "source": [
    "# Exercise 5\n",
    "def Divisible_5_3(n):\n",
    "    if n % 3 == 0 and n % 5 == 0:\n",
    "        return f\"{n} is divisible by both 3 and 5\"\n",
    "    else:\n",
    "        return f\"{n} is not divisible by both 3 and 5\"\n",
    "\n",
    "Divisible_5_3(6)\n"
   ]
  },
  {
   "cell_type": "markdown",
   "id": "635950b8",
   "metadata": {},
   "source": [
    "\n",
    "### Exercise 6:\n",
    "Write a Python program that prints \"Hot\" if the temperature is above 30, \"Warm\" if it is between 15 and 30, and \"Cold\" if it is below 15.\n",
    "\n",
    "```python\n"
   ]
  },
  {
   "cell_type": "code",
   "execution_count": 19,
   "id": "7f36f4d1",
   "metadata": {},
   "outputs": [
    {
     "name": "stdout",
     "output_type": "stream",
     "text": [
      "Enter a temperature16\n",
      "Warm\n"
     ]
    }
   ],
   "source": [
    "# Exercise 6\n",
    "temperature = int(input(\"Enter a temperature\"))\n",
    "if temperature > 30:\n",
    "    print(f\"Hot\")\n",
    "elif temperature >15 and temperature <30:\n",
    "    print(f\"Warm\")\n",
    "else:\n",
    "    print(\"Cold\")\n"
   ]
  },
  {
   "cell_type": "markdown",
   "id": "83a6c69b",
   "metadata": {},
   "source": [
    "\n",
    "### Exercise 7:\n",
    "Write a Python program that checks if a string contains the letter 'a'.\n",
    "\n",
    "```python\n"
   ]
  },
  {
   "cell_type": "code",
   "execution_count": 35,
   "id": "270a7c44",
   "metadata": {},
   "outputs": [
    {
     "data": {
      "text/plain": [
       "'hello does not contains a'"
      ]
     },
     "execution_count": 35,
     "metadata": {},
     "output_type": "execute_result"
    }
   ],
   "source": [
    "# Exercise 7\n",
    "def contains_a(string):\n",
    "    for i in range(len(string)): \n",
    "        if string[i] == 'a':\n",
    "            return f\"{string} contains a\"\n",
    "    return f\"{string} does not contains a\"\n",
    "            \n",
    "string = \"hello\"\n",
    "contains_a(string)\n",
    "    "
   ]
  },
  {
   "cell_type": "markdown",
   "id": "72bbc4ee",
   "metadata": {},
   "source": [
    "\n",
    "### Exercise 8:\n",
    "Write a Python function that checks if two numbers are equal, or which one is larger.\n",
    "\n",
    "```python\n"
   ]
  },
  {
   "cell_type": "code",
   "execution_count": 52,
   "id": "40e26a37",
   "metadata": {},
   "outputs": [
    {
     "data": {
      "text/plain": [
       "'Khadija contains a'"
      ]
     },
     "execution_count": 52,
     "metadata": {},
     "output_type": "execute_result"
    }
   ],
   "source": [
    "# Exercise 8\n",
    "def contains_a(string):\n",
    "    return f\"{string} contains a\" if 'a' in string else f\"{string} does not contain a\"\n",
    "\n",
    "contains_a(\"Khadija\")  "
   ]
  },
  {
   "cell_type": "markdown",
   "id": "60505212",
   "metadata": {},
   "source": [
    "\n",
    "### Exercise 9:\n",
    "Write a Python program that checks if a list is empty.\n",
    "\n",
    "```python\n"
   ]
  },
  {
   "cell_type": "code",
   "execution_count": 38,
   "id": "e788d148",
   "metadata": {},
   "outputs": [
    {
     "name": "stdout",
     "output_type": "stream",
     "text": [
      "False\n"
     ]
    }
   ],
   "source": [
    "# Exercise 9\n",
    "t = ()\n",
    "print(t==())"
   ]
  },
  {
   "cell_type": "markdown",
   "id": "4b95913e",
   "metadata": {},
   "source": [
    "\n",
    "### Exercise 10:\n",
    "Write a Python function that takes two strings and checks if they are anagrams.\n",
    "\n",
    "```python\n"
   ]
  },
  {
   "cell_type": "code",
   "execution_count": 104,
   "id": "c77b0996",
   "metadata": {},
   "outputs": [
    {
     "data": {
      "text/plain": [
       "True"
      ]
     },
     "execution_count": 104,
     "metadata": {},
     "output_type": "execute_result"
    }
   ],
   "source": [
    "# Exercise 10\n",
    "def anagram(string1,string2):\n",
    "    return sorted(string1) == sorted(string2)\n",
    "\n",
    "anagram(\"chien\",\"niche\")\n"
   ]
  },
  {
   "cell_type": "markdown",
   "id": "a4883d20",
   "metadata": {},
   "source": [
    "\n",
    "### Exercise 11:\n",
    "Write a Python program that checks if a number is prime.\n",
    "\n",
    "```python\n"
   ]
  },
  {
   "cell_type": "code",
   "execution_count": 45,
   "id": "e11bc3f1",
   "metadata": {},
   "outputs": [
    {
     "data": {
      "text/plain": [
       "'5 is a prime number'"
      ]
     },
     "execution_count": 45,
     "metadata": {},
     "output_type": "execute_result"
    }
   ],
   "source": [
    "# Exercise 11\n",
    "from math import sqrt\n",
    "def prime_number(n):\n",
    "    for i in range(2, int(sqrt(n))+1):\n",
    "        if n % i == 0:\n",
    "            return f\"{n} is not a prime number\"\n",
    "    return f\"{n} is a prime number\"\n",
    "\n",
    "prime_number(5)"
   ]
  },
  {
   "cell_type": "markdown",
   "id": "38b8967f",
   "metadata": {},
   "source": [
    "\n",
    "### Exercise 12:\n",
    "Write a Python program that checks if a list of numbers is sorted in ascending order.\n",
    "\n",
    "```python\n"
   ]
  },
  {
   "cell_type": "code",
   "execution_count": 48,
   "id": "5d7f312e",
   "metadata": {},
   "outputs": [
    {
     "data": {
      "text/plain": [
       "'[1, 5, 3, 4] is not sorted'"
      ]
     },
     "execution_count": 48,
     "metadata": {},
     "output_type": "execute_result"
    }
   ],
   "source": [
    "# Exercise 12\n",
    "def is_sorted_list(liste):\n",
    "    if liste == sorted(liste):\n",
    "        return f\"{liste} is sorted\"\n",
    "    else:\n",
    "        return f\"{liste} is not sorted\"\n",
    "\n",
    "is_sorted_list([1,5,3,4])"
   ]
  },
  {
   "cell_type": "markdown",
   "id": "9b96677d",
   "metadata": {},
   "source": [
    "\n",
    "### Exercise 13:\n",
    "Write a Python function that takes a character and checks if it is a digit.\n",
    "\n",
    "```python\n"
   ]
  },
  {
   "cell_type": "code",
   "execution_count": 55,
   "id": "e4db53db",
   "metadata": {},
   "outputs": [
    {
     "data": {
      "text/plain": [
       "False"
      ]
     },
     "execution_count": 55,
     "metadata": {},
     "output_type": "execute_result"
    }
   ],
   "source": [
    "# Exercise 13\n",
    "def is_digit(char):\n",
    "    return char.isdigit()\n",
    "    \n",
    "is_digit('c')"
   ]
  },
  {
   "cell_type": "markdown",
   "id": "9354cce5",
   "metadata": {},
   "source": [
    "\n",
    "### Exercise 14:\n",
    "Write a Python function that checks if a string contains only uppercase letters.\n",
    "\n",
    "```python\n"
   ]
  },
  {
   "cell_type": "code",
   "execution_count": 60,
   "id": "b6edde94",
   "metadata": {},
   "outputs": [
    {
     "data": {
      "text/plain": [
       "True"
      ]
     },
     "execution_count": 60,
     "metadata": {},
     "output_type": "execute_result"
    }
   ],
   "source": [
    "# Exercise 14\n",
    "def is_all_uppercase(s):\n",
    "    return s.upper() == s\n",
    "\n",
    "is_all_uppercase(\"KHADIJA\")"
   ]
  },
  {
   "cell_type": "markdown",
   "id": "0753e49d",
   "metadata": {},
   "source": [
    "\n",
    "### Exercise 15:\n",
    "Write a Python program that checks if a number is a multiple of 10.\n",
    "\n",
    "```python\n"
   ]
  },
  {
   "cell_type": "code",
   "execution_count": 65,
   "id": "950efcff",
   "metadata": {},
   "outputs": [
    {
     "data": {
      "text/plain": [
       "True"
      ]
     },
     "execution_count": 65,
     "metadata": {},
     "output_type": "execute_result"
    }
   ],
   "source": [
    "# Exercise 15\n",
    "def multiple_10(n):\n",
    "    return n%10 == 0\n",
    "\n",
    "multiple_10(20)\n",
    "    \n"
   ]
  },
  {
   "cell_type": "markdown",
   "id": "08c67137",
   "metadata": {},
   "source": [
    "\n",
    "### Exercise 16:\n",
    "Write a Python function that checks if a list contains any duplicates.\n",
    "\n",
    "```python\n"
   ]
  },
  {
   "cell_type": "code",
   "execution_count": 68,
   "id": "416effe6",
   "metadata": {},
   "outputs": [
    {
     "data": {
      "text/plain": [
       "False"
      ]
     },
     "execution_count": 68,
     "metadata": {},
     "output_type": "execute_result"
    }
   ],
   "source": [
    "# Exercise 16\n",
    "def duplicate(liste):\n",
    "    return liste == sorted(liste)\n",
    "\n",
    "duplicate([1,1,1,1,2,2,2,9,9,3,3,2,2,0,0,0,0])\n",
    "#duplicate([1,2,3,4])"
   ]
  },
  {
   "cell_type": "markdown",
   "id": "085a8bd0",
   "metadata": {},
   "source": [
    "\n",
    "### Exercise 17:\n",
    "Write a Python program that prints \"Teenager\" if the age is between 13 and 19, otherwise it prints \"Not a teenager.\"\n",
    "\n",
    "```python\n"
   ]
  },
  {
   "cell_type": "code",
   "execution_count": 70,
   "id": "d3a890ae",
   "metadata": {},
   "outputs": [
    {
     "name": "stdout",
     "output_type": "stream",
     "text": [
      "Enter your age18\n",
      "Teenager\n"
     ]
    }
   ],
   "source": [
    "# Exercise 17\n",
    "age = int(input(\"Enter your age\"))\n",
    "if(age>13 and age<19):\n",
    "    print(\"Teenager\")\n",
    "else:\n",
    "    print(\"Not Teenager\")\n",
    "    \n"
   ]
  },
  {
   "cell_type": "markdown",
   "id": "9bf8be5c",
   "metadata": {},
   "source": [
    "\n",
    "### Exercise 18:\n",
    "Write a Python function that checks if a list contains an element greater than 100.\n",
    "\n",
    "```python\n"
   ]
  },
  {
   "cell_type": "code",
   "execution_count": 72,
   "id": "f53ef217",
   "metadata": {},
   "outputs": [
    {
     "data": {
      "text/plain": [
       "False"
      ]
     },
     "execution_count": 72,
     "metadata": {},
     "output_type": "execute_result"
    }
   ],
   "source": [
    "# Exercise 18\n",
    "def greater_100(liste):\n",
    "    for x in liste:\n",
    "        if x>100:\n",
    "            return True\n",
    "    return False\n",
    "greater_100([1,2,3,4])"
   ]
  },
  {
   "cell_type": "markdown",
   "id": "3b9d085f",
   "metadata": {},
   "source": [
    "\n",
    "### Exercise 19:\n",
    "Write a Python program that checks if a number is even or odd.\n",
    "\n",
    "```python\n"
   ]
  },
  {
   "cell_type": "code",
   "execution_count": 73,
   "id": "aa3ca4af",
   "metadata": {},
   "outputs": [
    {
     "data": {
      "text/plain": [
       "'5 est imparir'"
      ]
     },
     "execution_count": 73,
     "metadata": {},
     "output_type": "execute_result"
    }
   ],
   "source": [
    "# Exercise 19\n",
    "def parity(n):\n",
    "    if n % 2 == 0:\n",
    "        return f\"{n} est parir\"\n",
    "    else:\n",
    "        return f\"{n} est imparir\"\n",
    "\n",
    "parity(5)\n"
   ]
  },
  {
   "cell_type": "markdown",
   "id": "af25ed9a",
   "metadata": {},
   "source": [
    "\n",
    "### Exercise 20:\n",
    "Write a Python function that checks if a string ends with a punctuation mark.\n",
    "\n",
    "```python\n"
   ]
  },
  {
   "cell_type": "code",
   "execution_count": 81,
   "id": "de8c834d",
   "metadata": {},
   "outputs": [
    {
     "data": {
      "text/plain": [
       "True"
      ]
     },
     "execution_count": 81,
     "metadata": {},
     "output_type": "execute_result"
    }
   ],
   "source": [
    "# Exercise 20\n",
    "def end_ponctuation(string):\n",
    "    if string[-1] in ['.', ',', ';', '!', \":\"]:\n",
    "        return True\n",
    "    return False\n",
    "\n",
    "end_ponctuation(\"Hello!\")"
   ]
  },
  {
   "cell_type": "markdown",
   "id": "affa35fc",
   "metadata": {},
   "source": [
    "\n",
    "### Exercise 21:\n",
    "Write a Python program that prints \"Yes\" if the number is between 1 and 100, otherwise it prints \"No.\"\n",
    "\n",
    "```python\n"
   ]
  },
  {
   "cell_type": "code",
   "execution_count": null,
   "id": "92373182",
   "metadata": {},
   "outputs": [],
   "source": [
    "# Exercise 21\n",
    "n = int(input(\"Enter a value\"))\n",
    "if n >1 and n<100:\n",
    "    print(\"Yes\")\n",
    "else:\n",
    "    print(\"No\")\n"
   ]
  },
  {
   "cell_type": "markdown",
   "id": "b2cefd87",
   "metadata": {},
   "source": [
    "\n",
    "### Exercise 22:\n",
    "Write a Python program that checks if two strings have the same length.\n",
    "\n",
    "```python\n"
   ]
  },
  {
   "cell_type": "code",
   "execution_count": 83,
   "id": "278fa4a0",
   "metadata": {},
   "outputs": [
    {
     "data": {
      "text/plain": [
       "True"
      ]
     },
     "execution_count": 83,
     "metadata": {},
     "output_type": "execute_result"
    }
   ],
   "source": [
    "# Exercise 22\n",
    "def same_length(string1,string2):\n",
    "    return len(string1)==len(string2)\n",
    "\n",
    "string1 = \"Khadija\"\n",
    "string2 = \"Mariama\"\n",
    "same_length(string1, string2)\n"
   ]
  },
  {
   "cell_type": "markdown",
   "id": "d99215fc",
   "metadata": {},
   "source": [
    "\n",
    "### Exercise 23:\n",
    "Write a Python function that checks if a number is greater than its reverse.\n",
    "\n",
    "```python\n"
   ]
  },
  {
   "cell_type": "code",
   "execution_count": 85,
   "id": "b68e975e",
   "metadata": {},
   "outputs": [
    {
     "data": {
      "text/plain": [
       "False"
      ]
     },
     "execution_count": 85,
     "metadata": {},
     "output_type": "execute_result"
    }
   ],
   "source": [
    "# Exercise 23\n",
    "def is_greater_than_reverse(n):\n",
    "    reverse_n = int(str(n)[::-1])\n",
    "    return n > reverse_n\n",
    "\n",
    "n = 13\n",
    "is_greater_than_reverse(n)"
   ]
  },
  {
   "cell_type": "markdown",
   "id": "e9cc3b28",
   "metadata": {},
   "source": [
    "\n",
    "### Exercise 24:\n",
    "Write a Python program that checks if a password contains both letters and numbers.\n",
    "\n",
    "```python\n"
   ]
  },
  {
   "cell_type": "code",
   "execution_count": 88,
   "id": "d56c71c7",
   "metadata": {},
   "outputs": [
    {
     "data": {
      "text/plain": [
       "True"
      ]
     },
     "execution_count": 88,
     "metadata": {},
     "output_type": "execute_result"
    }
   ],
   "source": [
    "# Exercise 24\n",
    "def password(passwd):\n",
    "    has_letter = any(c.isalpha() for c in passwd)\n",
    "    has_digit = any(c.isdigit() for c in passwd)\n",
    "    return has_letter and has_digit\n",
    "\n",
    "passwd = \"abc123\"\n",
    "password(passwd)"
   ]
  },
  {
   "cell_type": "markdown",
   "id": "555872a8",
   "metadata": {},
   "source": [
    "\n",
    "### Exercise 25:\n",
    "Write a Python program that checks if a number is between two given numbers.\n",
    "\n",
    "```python\n"
   ]
  },
  {
   "cell_type": "code",
   "execution_count": 93,
   "id": "a62a92fc",
   "metadata": {},
   "outputs": [
    {
     "name": "stdout",
     "output_type": "stream",
     "text": [
      "Enter a value: 3\n",
      "Enter another value: 8\n"
     ]
    },
    {
     "data": {
      "text/plain": [
       "True"
      ]
     },
     "execution_count": 93,
     "metadata": {},
     "output_type": "execute_result"
    }
   ],
   "source": [
    "# Exercise 25\n",
    "def check_number(n):\n",
    "    a = int(input(\"Enter a value: \"))\n",
    "    b = int(input(\"Enter another value: \"))\n",
    "    return n>a and n<b\n",
    "n=5\n",
    "check_number(5)"
   ]
  },
  {
   "cell_type": "markdown",
   "id": "ce715a06",
   "metadata": {},
   "source": [
    "\n",
    "### Exercise 26:\n",
    "Write a Python function that checks if all characters in a string are unique.\n",
    "\n",
    "```python\n"
   ]
  },
  {
   "cell_type": "code",
   "execution_count": 95,
   "id": "4ba25fbd",
   "metadata": {},
   "outputs": [
    {
     "name": "stdout",
     "output_type": "stream",
     "text": [
      "False\n"
     ]
    }
   ],
   "source": [
    "# Exercise 26\n",
    "def all_unique(s):\n",
    "    return len(s) == len(set(s))\n",
    "print(all_unique(\"hello\"))"
   ]
  },
  {
   "cell_type": "markdown",
   "id": "b2b6f15f",
   "metadata": {},
   "source": [
    "\n",
    "### Exercise 27:\n",
    "Write a Python program that checks if a number is a perfect square.\n",
    "\n",
    "```python\n"
   ]
  },
  {
   "cell_type": "code",
   "execution_count": 98,
   "id": "0c325152",
   "metadata": {},
   "outputs": [
    {
     "data": {
      "text/plain": [
       "True"
      ]
     },
     "execution_count": 98,
     "metadata": {},
     "output_type": "execute_result"
    }
   ],
   "source": [
    "# Exercise 27\n",
    "from math import sqrt\n",
    "def perfect_square(n):\n",
    "    root = int(sqrt(n))\n",
    "    return root * root == n\n",
    "    \n",
    "perfect_square(16)    "
   ]
  },
  {
   "cell_type": "markdown",
   "id": "2b44563c",
   "metadata": {},
   "source": [
    "\n",
    "### Exercise 28:\n",
    "Write a Python function that checks if a word is a palindrome.\n",
    "\n",
    "```python\n"
   ]
  },
  {
   "cell_type": "code",
   "execution_count": 105,
   "id": "3d3c5899",
   "metadata": {},
   "outputs": [
    {
     "name": "stdout",
     "output_type": "stream",
     "text": [
      "matam is palindrome\n"
     ]
    }
   ],
   "source": [
    "# Exercise 28\n",
    "def anagram(list1):\n",
    "    if list1[::-1]==list1:\n",
    "        print(f\"{list1} is palindrome\")\n",
    "    else:\n",
    "        print(f\"The lists is not palindrome\")\n",
    "\n",
    "list1 = \"matam\"\n",
    "#list2 = \"madam\"              \n",
    "anagram(list1)\n"
   ]
  },
  {
   "cell_type": "markdown",
   "id": "183f4b2d",
   "metadata": {},
   "source": [
    "\n",
    "### Exercise 29:\n",
    "Write a Python program that prints \"Fizz\" if a number is divisible by 3, \"Buzz\" if it is divisible by 5, and \"FizzBuzz\" if divisible by both.\n",
    "\n",
    "```python\n"
   ]
  },
  {
   "cell_type": "code",
   "execution_count": 109,
   "id": "7287b6bf",
   "metadata": {},
   "outputs": [
    {
     "name": "stdout",
     "output_type": "stream",
     "text": [
      "Fizz\n",
      "Buzz\n",
      "FizzBuzz\n",
      "None\n"
     ]
    }
   ],
   "source": [
    "# Exercise 29\n",
    "def fizzbuzz(n):\n",
    "    if n % 3 == 0 and n % 5 == 0:\n",
    "        return \"FizzBuzz\"\n",
    "    elif n % 3 == 0:\n",
    "        return \"Fizz\"\n",
    "    elif n % 5 == 0:\n",
    "        return \"Buzz\"\n",
    "    else:\n",
    "        return None  \n",
    "# Exemple d'utilisation\n",
    "print(fizzbuzz(3))   \n",
    "print(fizzbuzz(15)) \n",
    "print(fizzbuzz(7))   \n",
    "    \n",
    "\n",
    "\n"
   ]
  },
  {
   "cell_type": "markdown",
   "id": "acfe9bc5",
   "metadata": {},
   "source": [
    "\n",
    "### Exercise 30:\n",
    "Write a Python program that checks if the sum of the digits of a number is even.\n",
    "\n",
    "```python\n"
   ]
  },
  {
   "cell_type": "code",
   "execution_count": 113,
   "id": "8f098d89",
   "metadata": {},
   "outputs": [
    {
     "data": {
      "text/plain": [
       "True"
      ]
     },
     "execution_count": 113,
     "metadata": {},
     "output_type": "execute_result"
    }
   ],
   "source": [
    "# Exercise 30\n",
    "def som_digit(number):\n",
    "    a = sum(int(i) for i in str(number))\n",
    "    return a % 2 == 0\n",
    "\n",
    "som_digit(123)\n"
   ]
  },
  {
   "cell_type": "markdown",
   "id": "815ac999",
   "metadata": {},
   "source": [
    "\n",
    "### Exercise 31:\n",
    "Write a Python program that checks if a string is a valid email address.\n",
    "\n",
    "```python\n"
   ]
  },
  {
   "cell_type": "code",
   "execution_count": 3,
   "id": "f6ec5437",
   "metadata": {},
   "outputs": [
    {
     "data": {
      "text/plain": [
       "True"
      ]
     },
     "execution_count": 3,
     "metadata": {},
     "output_type": "execute_result"
    }
   ],
   "source": [
    "# Exercise 31\n",
    "import re  # module pour les expressions régulières\n",
    "\n",
    "def is_valid_email(email):\n",
    "    if \"@\" in email and \".\" in email:\n",
    "        return True\n",
    "    else:\n",
    "        return False\n",
    "\n",
    "\n",
    "# 🔹 Exemple d'utilisation\n",
    "emails = \"test@example.com\"\n",
    "is_valid_email(emails)\n"
   ]
  },
  {
   "cell_type": "markdown",
   "id": "e53b0197",
   "metadata": {},
   "source": [
    "\n",
    "### Exercise 32:\n",
    "Write a Python function that checks if a number is within 10 of 100 or 200.\n",
    "\n",
    "```python\n"
   ]
  },
  {
   "cell_type": "code",
   "execution_count": 5,
   "id": "94d9e06d",
   "metadata": {},
   "outputs": [
    {
     "name": "stdout",
     "output_type": "stream",
     "text": [
      "Enter a value: 12\n",
      "False\n"
     ]
    }
   ],
   "source": [
    "# Exercise 32\n",
    "n = int(input(\"Enter a value: \"))\n",
    "if abs(100 - n) <= 10 or abs(200 - n) <= 10:\n",
    "    print(\"True\")\n",
    "else:\n",
    "    print(\"False\")\n"
   ]
  },
  {
   "cell_type": "markdown",
   "id": "20f4a264",
   "metadata": {},
   "source": [
    "\n",
    "### Exercise 33:\n",
    "Write a Python program that checks if a given string is a valid URL.\n",
    "\n",
    "```python\n"
   ]
  },
  {
   "cell_type": "code",
   "execution_count": 18,
   "id": "5386689a",
   "metadata": {},
   "outputs": [
    {
     "data": {
      "text/plain": [
       "True"
      ]
     },
     "execution_count": 18,
     "metadata": {},
     "output_type": "execute_result"
    }
   ],
   "source": [
    "# Exercise 33\n",
    "def is_valid_url(url):\n",
    "    return url.startswith(\"http://\") or url.startswith(\"https://\")\n",
    "\n",
    "\n",
    "is_valid_url(\"http://example.com\")  "
   ]
  },
  {
   "cell_type": "markdown",
   "id": "9ea06e6c",
   "metadata": {},
   "source": [
    "\n",
    "### Exercise 34:\n",
    "Write a Python program that checks if a list contains all even numbers.\n",
    "\n",
    "```python\n"
   ]
  },
  {
   "cell_type": "code",
   "execution_count": 7,
   "id": "7beb3e47",
   "metadata": {},
   "outputs": [
    {
     "name": "stdout",
     "output_type": "stream",
     "text": [
      "[1, 2, 3, 4] does not contains all even\n"
     ]
    }
   ],
   "source": [
    "# Exercise 34\n",
    "liste = [1,2,3,4]\n",
    "a = [i for i in liste if i%2==0]\n",
    "if liste ==a:\n",
    "    print(f\"{liste} contains all even\")\n",
    "else:\n",
    "    print(f\"{liste} does not contains all even\")\n"
   ]
  },
  {
   "cell_type": "markdown",
   "id": "d612fbbe",
   "metadata": {},
   "source": [
    "\n",
    "### Exercise 35:\n",
    "Write a Python program that checks if a word is longer than a given length.\n",
    "\n",
    "```python\n"
   ]
  },
  {
   "cell_type": "code",
   "execution_count": 9,
   "id": "62862493",
   "metadata": {},
   "outputs": [
    {
     "data": {
      "text/plain": [
       "True"
      ]
     },
     "execution_count": 9,
     "metadata": {},
     "output_type": "execute_result"
    }
   ],
   "source": [
    "# Exercise 35\n",
    "def longer(n,word):\n",
    "    return len(word)>n \n",
    "n=4\n",
    "word = \"banana\"\n",
    "longer(n,word)\n"
   ]
  },
  {
   "cell_type": "markdown",
   "id": "3fe330ab",
   "metadata": {},
   "source": [
    "\n",
    "### Exercise 36:\n",
    "Write a Python program that checks if a list contains only positive numbers.\n",
    "\n",
    "```python\n"
   ]
  },
  {
   "cell_type": "code",
   "execution_count": 10,
   "id": "c9668ff5",
   "metadata": {},
   "outputs": [
    {
     "name": "stdout",
     "output_type": "stream",
     "text": [
      "[1, 2, 3, 4] contains  only positive numbers.\n"
     ]
    }
   ],
   "source": [
    "# Exercise 36\n",
    "liste = [1,2,3,4]\n",
    "a = [i for i in liste if i>0]\n",
    "if liste ==a:\n",
    "    print(f\"{liste} contains  only positive numbers.\")\n",
    "else:\n",
    "    print(f\"{liste} does not contains  only positive numbers.\")\n"
   ]
  },
  {
   "cell_type": "markdown",
   "id": "0c9dbbe4",
   "metadata": {},
   "source": [
    "\n",
    "### Exercise 37:\n",
    "Write a Python function that checks if a year is a century year (i.e., divisible by 100).\n",
    "\n",
    "```python\n"
   ]
  },
  {
   "cell_type": "code",
   "execution_count": 11,
   "id": "6f87569f",
   "metadata": {},
   "outputs": [
    {
     "data": {
      "text/plain": [
       "False"
      ]
     },
     "execution_count": 11,
     "metadata": {},
     "output_type": "execute_result"
    }
   ],
   "source": [
    "# Exercise 37\n",
    "def century_year(n):\n",
    "    return n%100 ==0\n",
    "century_year(2020)"
   ]
  },
  {
   "cell_type": "markdown",
   "id": "2f581e96",
   "metadata": {},
   "source": [
    "\n",
    "### Exercise 38:\n",
    "Write a Python program that checks if the sum of a list of numbers is greater than 100.\n",
    "\n",
    "```python\n"
   ]
  },
  {
   "cell_type": "code",
   "execution_count": null,
   "id": "0d38ce24",
   "metadata": {},
   "outputs": [],
   "source": [
    "# Exercise 38\n",
    "def greater_than_100(liste):\n",
    "    a = sum(i for in liste)\n",
    "    return "
   ]
  },
  {
   "cell_type": "markdown",
   "id": "57ed42d3",
   "metadata": {},
   "source": [
    "\n",
    "### Exercise 39:\n",
    "Write a Python function that checks if a given word is a substring of another string.\n",
    "\n",
    "```python\n"
   ]
  },
  {
   "cell_type": "code",
   "execution_count": 16,
   "id": "8b87e94f",
   "metadata": {},
   "outputs": [
    {
     "data": {
      "text/plain": [
       "False"
      ]
     },
     "execution_count": 16,
     "metadata": {},
     "output_type": "execute_result"
    }
   ],
   "source": [
    "# Exercise 39\n",
    "def substring_string(string, substring):\n",
    "    if substring in string:\n",
    "        return \"True\"\n",
    "    return False\n",
    "\n",
    "string = \"Khadija\"\n",
    "substring = \"khadi\"\n",
    "substring_string(string, substring)"
   ]
  },
  {
   "cell_type": "markdown",
   "id": "e4c8b67a",
   "metadata": {},
   "source": [
    "### ### Exercise 40:\n",
    "Write a Python program that checks if a number is a power of 2.\n",
    "\n",
    "```python\n"
   ]
  },
  {
   "cell_type": "code",
   "execution_count": 20,
   "id": "fdcbf121",
   "metadata": {},
   "outputs": [
    {
     "data": {
      "text/plain": [
       "True"
      ]
     },
     "execution_count": 20,
     "metadata": {},
     "output_type": "execute_result"
    }
   ],
   "source": [
    "# Exercise 40\n",
    "def is_power_of_two(n):\n",
    "    while n % 2 == 0:\n",
    "        n = n // 2\n",
    "    return n == 1\n",
    "is_power_of_two(8)"
   ]
  },
  {
   "cell_type": "markdown",
   "id": "a24e4c23",
   "metadata": {},
   "source": []
  },
  {
   "cell_type": "markdown",
   "id": "96bf4491",
   "metadata": {},
   "source": [
    "\n",
    "### Exercise 41:\n",
    "Write a Python function that checks if a string contains no spaces.\n",
    "\n",
    "```python\n"
   ]
  },
  {
   "cell_type": "code",
   "execution_count": 27,
   "id": "36305b93",
   "metadata": {},
   "outputs": [
    {
     "data": {
      "text/plain": [
       "True"
      ]
     },
     "execution_count": 27,
     "metadata": {},
     "output_type": "execute_result"
    }
   ],
   "source": [
    "# Exercise 41\n",
    "def no_spaces(string):\n",
    "    for i in string:\n",
    "        if i == \" \":\n",
    "            return False\n",
    "    return True\n",
    "no_spaces(\"Khadija\")\n"
   ]
  },
  {
   "cell_type": "markdown",
   "id": "5972e4db",
   "metadata": {},
   "source": [
    "\n",
    "### Exercise 42:\n",
    "Write a Python program that prints \"Yes\" if a number is divisible by both 2 and 3, otherwise it prints \"No.\"\n",
    "\n",
    "```python\n"
   ]
  },
  {
   "cell_type": "code",
   "execution_count": 29,
   "id": "e3f0effa",
   "metadata": {},
   "outputs": [
    {
     "data": {
      "text/plain": [
       "'Yes'"
      ]
     },
     "execution_count": 29,
     "metadata": {},
     "output_type": "execute_result"
    }
   ],
   "source": [
    "# Exercise 42\n",
    "def divisible_2_3(n):\n",
    "    if n % 2 == 0 and n%3 == 0:\n",
    "        return \"Yes\"\n",
    "    return \"No\"\n",
    "divisible_2_3(6)"
   ]
  },
  {
   "cell_type": "markdown",
   "id": "b1dee036",
   "metadata": {},
   "source": [
    "\n",
    "### Exercise 43:\n",
    "Write a Python program that checks if a number is a palindrome.\n",
    "\n",
    "```python\n"
   ]
  },
  {
   "cell_type": "code",
   "execution_count": 32,
   "id": "554dd0b8",
   "metadata": {},
   "outputs": [
    {
     "data": {
      "text/plain": [
       "\"1234 n'est pas un palindrome\""
      ]
     },
     "execution_count": 32,
     "metadata": {},
     "output_type": "execute_result"
    }
   ],
   "source": [
    "# Exercise 43\n",
    "def number_palindrome(n):\n",
    "    m = str(n)\n",
    "    if m[::-1] == m:\n",
    "        return f\"{n} est un palindrome\"\n",
    "    else:\n",
    "        return f\"{n} n'est pas un palindrome\"\n",
    "n = 1234\n",
    "number_palindrome(n)\n"
   ]
  },
  {
   "cell_type": "markdown",
   "id": "0df88e34",
   "metadata": {},
   "source": [
    "\n",
    "### Exercise 44:\n",
    "Write a Python function that checks if a string is made of only lowercase letters.\n",
    "\n",
    "```python\n"
   ]
  },
  {
   "cell_type": "code",
   "execution_count": 35,
   "id": "6f660e8f",
   "metadata": {},
   "outputs": [
    {
     "data": {
      "text/plain": [
       "'True'"
      ]
     },
     "execution_count": 35,
     "metadata": {},
     "output_type": "execute_result"
    }
   ],
   "source": [
    "# Exercise 44\n",
    "def lowercase_letters(string):\n",
    "    if string.lower() == string:\n",
    "        return \"True\"\n",
    "    else:\n",
    "        return \"False\"\n",
    "    \n",
    "lowercase_letters(\"khadija\")"
   ]
  },
  {
   "cell_type": "markdown",
   "id": "719ead9f",
   "metadata": {},
   "source": [
    "\n",
    "### Exercise 45:\n",
    "Write a Python program that checks if a string starts with a specific prefix.\n",
    "\n",
    "```python\n"
   ]
  },
  {
   "cell_type": "code",
   "execution_count": 39,
   "id": "d699dca2",
   "metadata": {},
   "outputs": [
    {
     "data": {
      "text/plain": [
       "False"
      ]
     },
     "execution_count": 39,
     "metadata": {},
     "output_type": "execute_result"
    }
   ],
   "source": [
    "# Exercise 45\n",
    "def starts_with_prefix(text, prefix):\n",
    "    return text.startswith(prefix)\n",
    "text = \"insconscient\"\n",
    "prefix = \"en\"\n",
    "starts_with_prefix(text, prefix)\n"
   ]
  },
  {
   "cell_type": "markdown",
   "id": "bc51c731",
   "metadata": {},
   "source": [
    "\n",
    "### Exercise 46:\n",
    "Write a Python function that checks if a number is divisible by any number in a given list.\n",
    "\n",
    "```python\n"
   ]
  },
  {
   "cell_type": "code",
   "execution_count": 50,
   "id": "041e8773",
   "metadata": {},
   "outputs": [
    {
     "data": {
      "text/plain": [
       "True"
      ]
     },
     "execution_count": 50,
     "metadata": {},
     "output_type": "execute_result"
    }
   ],
   "source": [
    "# Exercise 46\n",
    "def divisible_by_all(n, liste):\n",
    "    return all(n % i == 0 for i in liste)\n",
    "divisible_by_all(12, [1, 2, 3, 4])"
   ]
  },
  {
   "cell_type": "markdown",
   "id": "13519451",
   "metadata": {},
   "source": [
    "\n",
    "### Exercise 47:\n",
    "Write a Python program that prints \"Yes\" if a string has more than one occurrence of the same letter.\n",
    "\n",
    "```python\n"
   ]
  },
  {
   "cell_type": "code",
   "execution_count": 51,
   "id": "324ff88a",
   "metadata": {},
   "outputs": [
    {
     "data": {
      "text/plain": [
       "True"
      ]
     },
     "execution_count": 51,
     "metadata": {},
     "output_type": "execute_result"
    }
   ],
   "source": [
    "# Exercise 47\n",
    "def has_duplicate_letters(s):\n",
    "    s = s.lower()  \n",
    "    seen = set()   \n",
    "    for char in s:\n",
    "        if char.isalpha(): \n",
    "            if char in seen:\n",
    "                return True\n",
    "            seen.add(char)\n",
    "    return False\n",
    "\n",
    "has_duplicate_letters(\"khadija\")\n",
    "\n",
    "\n"
   ]
  },
  {
   "cell_type": "markdown",
   "id": "c7f4c051",
   "metadata": {},
   "source": [
    "\n",
    "### Exercise 48:\n",
    "Write a Python function that checks if a number is prime by dividing it by numbers up to its square root.\n",
    "\n",
    "```python\n"
   ]
  },
  {
   "cell_type": "code",
   "execution_count": 54,
   "id": "3a6821be",
   "metadata": {},
   "outputs": [
    {
     "data": {
      "text/plain": [
       "True"
      ]
     },
     "execution_count": 54,
     "metadata": {},
     "output_type": "execute_result"
    }
   ],
   "source": [
    "# Exercise 48\n",
    "from math import sqrt\n",
    "def is_prime(n):\n",
    "    if n <= 1:\n",
    "        return False\n",
    "    for i in range(2, int(sqrt(n)) + 1):\n",
    "        if n % i == 0:\n",
    "            return False\n",
    "    return True\n",
    "is_prime(17)"
   ]
  },
  {
   "cell_type": "markdown",
   "id": "ea3b17eb",
   "metadata": {},
   "source": [
    "\n",
    "### Exercise 49:\n",
    "Write a Python program that checks if a number is within 1 of a multiple of 10.\n",
    "\n",
    "```python\n"
   ]
  },
  {
   "cell_type": "code",
   "execution_count": 55,
   "id": "0e0b5177",
   "metadata": {},
   "outputs": [
    {
     "data": {
      "text/plain": [
       "True"
      ]
     },
     "execution_count": 55,
     "metadata": {},
     "output_type": "execute_result"
    }
   ],
   "source": [
    "# Exercise 49\n",
    "def near_multiple_of_10(n):\n",
    "    return n % 10 == 1 or n % 10 == 9\n",
    "\n",
    "near_multiple_of_10(11)\n"
   ]
  },
  {
   "cell_type": "markdown",
   "id": "fe772dfe",
   "metadata": {},
   "source": [
    "\n",
    "### Exercise 50:\n",
    "Write a Python program that prints \"In range\" if a number is between 10 and 20 (inclusive), otherwise it prints \"Out of range.\"\n",
    "\n",
    "```python\n"
   ]
  },
  {
   "cell_type": "code",
   "execution_count": 56,
   "id": "a3450bd1",
   "metadata": {},
   "outputs": [
    {
     "name": "stdout",
     "output_type": "stream",
     "text": [
      "Enter a number: 15\n",
      "In range\n"
     ]
    }
   ],
   "source": [
    "# Exercise 50\n",
    "num = int(input(\"Enter a number: \"))\n",
    "\n",
    "if 10 <= num <= 20:\n",
    "    print(\"In range\")\n",
    "else:\n",
    "    print(\"Out of range\")\n"
   ]
  }
 ],
 "metadata": {
  "colab": {
   "provenance": []
  },
  "kernelspec": {
   "display_name": "Python 3 (ipykernel)",
   "language": "python",
   "name": "python3"
  },
  "language_info": {
   "codemirror_mode": {
    "name": "ipython",
    "version": 3
   },
   "file_extension": ".py",
   "mimetype": "text/x-python",
   "name": "python",
   "nbconvert_exporter": "python",
   "pygments_lexer": "ipython3",
   "version": "3.9.13"
  }
 },
 "nbformat": 4,
 "nbformat_minor": 5
}
